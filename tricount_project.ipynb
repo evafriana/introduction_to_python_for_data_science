{
 "metadata": {
  "language_info": {
   "codemirror_mode": {
    "name": "ipython",
    "version": 3
   },
   "file_extension": ".py",
   "mimetype": "text/x-python",
   "name": "python",
   "nbconvert_exporter": "python",
   "pygments_lexer": "ipython3",
   "version": "3.7.3-final"
  },
  "orig_nbformat": 2,
  "kernelspec": {
   "name": "python3",
   "display_name": "Python 3"
  }
 },
 "nbformat": 4,
 "nbformat_minor": 2,
 "cells": [
  {
   "cell_type": "code",
   "execution_count": 5,
   "metadata": {},
   "outputs": [
    {
     "output_type": "stream",
     "name": "stdout",
     "text": [
      "[('tom', '1'), (' john', ' 2'), (' arthur', ' 3')]\n"
     ]
    }
   ],
   "source": [
    "friends = input(\"what are the names of your friends? (seperate their names by a coma\")\n",
    "amounts = input(\"how much each of your friends spent? (keep the same order as above and seperate by a coma\")\n",
    "\n",
    "list_of_friends = friends.split(\",\")\n",
    "list_of_amounts = amounts.split(\",\")\n",
    "\n",
    "if len(list_of_friends) == len(list_of_amounts):\n",
    "    friends = []\n",
    "    for friend, amount in zip(list_of_friends, list_of_amounts):\n",
    "\n",
    "        friends.append((friend, amount))\n",
    "    print(friends)\n",
    "\n",
    "elif len(list_of_friends) > len(list_of_amounts):\n",
    "    print(\"you entered more friends than amounts!\")\n",
    "else:\n",
    "    print(\"you entered more amounts than friends\")"
   ]
  },
  {
   "cell_type": "code",
   "execution_count": 3,
   "metadata": {},
   "outputs": [
    {
     "output_type": "stream",
     "name": "stdout",
     "text": [
      "julia needs to give 10.00\n anthoin  doesn't need to receive anything\n lili need to receive 10.00\n"
     ]
    }
   ],
   "source": [
    "friends = input(\"what are the names of your friends? (seperate their names by a coma\")\n",
    "amounts = input(\"how much each of your friends spent? (keep the same order as above and seperate by a coma\") \n",
    "\n",
    "list_of_friends = friends.split(\",\")\n",
    "list_of_amounts = amounts.split(\",\")\n",
    "\n",
    "while True:\n",
    "    try:\n",
    "        list_of_amounts = [float(amount) for amount in list_of_amounts]\n",
    "        break\n",
    "    except:\n",
    "        print(\"Please enter numbers of the amounts spent\")\n",
    "        amounts = input(\"how much each of your friends spent? (keep the same order as above and seperate by a coma\") \n",
    "        list_of_amounts = amounts.split(\",\")\n",
    "\n",
    "while len(list_of_friends) != len(list_of_amounts):\n",
    "    print(\"you did not enter the same number of friends than amounts spent!\")\n",
    "\n",
    "    friends = input(\"what are the names of your friends? (seperate their names by a coma\")\n",
    "    amounts = input(\"how much each of your friends spent? (keep the same order as above and seperate by a coma\") \n",
    "\n",
    "    list_of_friends = friends.split(\",\")\n",
    "    list_of_amounts = amounts.split(\",\")\n",
    "\n",
    "    while True:\n",
    "        try:\n",
    "            list_of_amounts = [float(amount) for amount in list_of_amounts]\n",
    "            break\n",
    "        except:\n",
    "            print(\"Please enter numbers of the amounts spent\")\n",
    "            amounts = input(\"how much each of your friends spent? (keep the same order as above and seperate by a coma\") \n",
    "            list_of_amounts = amounts.split(\",\")\n",
    "\n",
    "else:\n",
    "    friends = [(friend, amount) for friend, amount in zip(list_of_friends, list_of_amounts)]\n",
    "    total_spent = sum([amount for _, amount in friends])\n",
    "\n",
    "    for friend, amount in zip(list_of_friends, list_of_amounts):\n",
    "        even_share = total_spent / len(friends)\n",
    "        friend_balance = amount - even_share\n",
    "\n",
    "        if friend_balance < 0:\n",
    "            print(\"{} needs to give {:.2f}\".format(friend, -friend_balance))\n",
    "        elif friend_balance > 0:\n",
    "            print(\"{} need to receive {:.2f}\".format(friend, friend_balance))\n",
    "        else:\n",
    "            print(\"{} doesn't need to receive anything\".format(friend))\n"
   ]
  },
  {
   "cell_type": "code",
   "execution_count": null,
   "metadata": {},
   "outputs": [],
   "source": []
  }
 ]
}
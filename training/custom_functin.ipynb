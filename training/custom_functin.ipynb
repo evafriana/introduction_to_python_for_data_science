{
 "metadata": {
  "language_info": {
   "codemirror_mode": {
    "name": "ipython",
    "version": 3
   },
   "file_extension": ".py",
   "mimetype": "text/x-python",
   "name": "python",
   "nbconvert_exporter": "python",
   "pygments_lexer": "ipython3",
   "version": "3.7.3-final"
  },
  "orig_nbformat": 2,
  "kernelspec": {
   "name": "python3",
   "display_name": "Python 3"
  }
 },
 "nbformat": 4,
 "nbformat_minor": 2,
 "cells": [
  {
   "cell_type": "code",
   "execution_count": 1,
   "metadata": {},
   "outputs": [],
   "source": [
    "def hi():\n",
    "    return \"hello\""
   ]
  },
  {
   "cell_type": "code",
   "execution_count": 2,
   "metadata": {},
   "outputs": [
    {
     "output_type": "execute_result",
     "data": {
      "text/plain": [
       "'hello'"
      ]
     },
     "metadata": {},
     "execution_count": 2
    }
   ],
   "source": [
    "hi()"
   ]
  },
  {
   "cell_type": "code",
   "execution_count": 4,
   "metadata": {},
   "outputs": [
    {
     "output_type": "stream",
     "name": "stdout",
     "text": [
      "hello hello hello\n"
     ]
    }
   ],
   "source": [
    "hello = hi()\n",
    "hey = hi()\n",
    "howdy = hi()\n",
    "\n",
    "print(hello, hey, howdy)"
   ]
  },
  {
   "cell_type": "code",
   "execution_count": 5,
   "metadata": {},
   "outputs": [],
   "source": [
    "def hi(name):\n",
    "    greetings = \"Hello {}\".format(name)\n",
    "    return greetings"
   ]
  },
  {
   "cell_type": "code",
   "execution_count": 6,
   "metadata": {},
   "outputs": [
    {
     "output_type": "stream",
     "name": "stdout",
     "text": [
      "Hello Antoine\nHello Julia\nHello Thomas\n"
     ]
    }
   ],
   "source": [
    "print(hi(\"Antoine\"))\n",
    "print(hi(\"Julia\"))\n",
    "print(hi(\"Thomas\"))"
   ]
  },
  {
   "cell_type": "code",
   "execution_count": 7,
   "metadata": {},
   "outputs": [],
   "source": [
    "def hi(name=\"\"):\n",
    "    if name ==\"\":\n",
    "        greetings = \"hello Mr nobody\"\n",
    "    else:\n",
    "        greetings = \"hello {}\".format(name)\n",
    "    return greetings"
   ]
  },
  {
   "cell_type": "code",
   "execution_count": 8,
   "metadata": {},
   "outputs": [
    {
     "output_type": "stream",
     "name": "stdout",
     "text": [
      "hello Julia\nhello Mr nobody\n"
     ]
    }
   ],
   "source": [
    "print (hi(\"Julia\"))\n",
    "print (hi())"
   ]
  },
  {
   "cell_type": "code",
   "execution_count": null,
   "metadata": {},
   "outputs": [],
   "source": []
  }
 ]
}
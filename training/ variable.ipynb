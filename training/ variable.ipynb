{
 "metadata": {
  "language_info": {
   "codemirror_mode": {
    "name": "ipython",
    "version": 3
   },
   "file_extension": ".py",
   "mimetype": "text/x-python",
   "name": "python",
   "nbconvert_exporter": "python",
   "pygments_lexer": "ipython3",
   "version": "3.7.3-final"
  },
  "orig_nbformat": 2,
  "kernelspec": {
   "name": "python3",
   "display_name": "Python 3"
  }
 },
 "nbformat": 4,
 "nbformat_minor": 2,
 "cells": [
  {
   "cell_type": "code",
   "execution_count": 9,
   "metadata": {},
   "outputs": [
    {
     "output_type": "stream",
     "name": "stdout",
     "text": [
      "total number of friends: 5\ntotal amount spent: 350\n"
     ]
    }
   ],
   "source": [
    "print(\"total number of friends: {}\".format(total_number_of_friends))\n",
    "print(\"total amount spent: {}\".format(total_mount_spent))"
   ]
  },
  {
   "cell_type": "code",
   "execution_count": 10,
   "metadata": {},
   "outputs": [
    {
     "output_type": "stream",
     "name": "stdout",
     "text": [
      "25\n5\n20\n5.0\n100\n"
     ]
    }
   ],
   "source": [
    "a = 10\n",
    "\n",
    "print(a + 15)\n",
    "print(a - 5)\n",
    "print(a * 2)\n",
    "print(a / 2)\n",
    "print(a ** 2)"
   ]
  },
  {
   "cell_type": "code",
   "execution_count": 11,
   "metadata": {},
   "outputs": [
    {
     "output_type": "stream",
     "name": "stdout",
     "text": [
      "42\n0.3125\n"
     ]
    }
   ],
   "source": [
    "b = 32\n",
    "print(a + b)\n",
    "print(a / b)"
   ]
  },
  {
   "cell_type": "code",
   "execution_count": 12,
   "metadata": {},
   "outputs": [
    {
     "output_type": "stream",
     "name": "stdout",
     "text": [
      "320\n"
     ]
    }
   ],
   "source": [
    "c = a * b\n",
    "print(c)"
   ]
  },
  {
   "cell_type": "code",
   "execution_count": 21,
   "metadata": {},
   "outputs": [
    {
     "output_type": "stream",
     "name": "stdout",
     "text": [
      "5\n350\n"
     ]
    }
   ],
   "source": [
    "\"\"\"\n",
    "ask trip info to our user\n",
    "with the input() build-in function\n",
    "\"\"\"\n",
    "\n",
    "total_number_of_friends, total_mount_spent = input(\"How many friend traveled with you?\"), input(\"how much did you spend during your trip?\")\n",
    "\n",
    "\n",
    "print(total_number_of_friends)\n",
    "print(total_mount_spent)"
   ]
  },
  {
   "cell_type": "code",
   "execution_count": 13,
   "metadata": {},
   "outputs": [
    {
     "output_type": "error",
     "ename": "TypeError",
     "evalue": "unsupported operand type(s) for /: 'str' and 'str'",
     "traceback": [
      "\u001b[0;31m---------------------------------------------------------------------------\u001b[0m",
      "\u001b[0;31mTypeError\u001b[0m                                 Traceback (most recent call last)",
      "\u001b[0;32m<ipython-input-13-b7d65fd7714d>\u001b[0m in \u001b[0;36m<module>\u001b[0;34m\u001b[0m\n\u001b[0;32m----> 1\u001b[0;31m \u001b[0mtotal_mount_spent\u001b[0m \u001b[0;34m/\u001b[0m \u001b[0mtotal_number_of_friends\u001b[0m\u001b[0;34m\u001b[0m\u001b[0;34m\u001b[0m\u001b[0m\n\u001b[0m",
      "\u001b[0;31mTypeError\u001b[0m: unsupported operand type(s) for /: 'str' and 'str'"
     ]
    }
   ],
   "source": [
    "total_mount_spent / total_number_of_friends"
   ]
  },
  {
   "cell_type": "code",
   "execution_count": 14,
   "metadata": {},
   "outputs": [
    {
     "output_type": "execute_result",
     "data": {
      "text/plain": [
       "str"
      ]
     },
     "metadata": {},
     "execution_count": 14
    }
   ],
   "source": [
    "type(total_mount_spent)"
   ]
  },
  {
   "cell_type": "code",
   "execution_count": 15,
   "metadata": {},
   "outputs": [
    {
     "output_type": "execute_result",
     "data": {
      "text/plain": [
       "'3505'"
      ]
     },
     "metadata": {},
     "execution_count": 15
    }
   ],
   "source": [
    "total_mount_spent + total_number_of_friends"
   ]
  },
  {
   "cell_type": "code",
   "execution_count": 16,
   "metadata": {},
   "outputs": [
    {
     "output_type": "stream",
     "name": "stdout",
     "text": [
      "<class 'int'>\n"
     ]
    }
   ],
   "source": [
    "total_mount_spent = int(total_mount_spent)\n",
    "total_number_of_friends = int(total_number_of_friends)\n",
    "\n",
    "print(type(total_mount_spent))"
   ]
  },
  {
   "cell_type": "code",
   "execution_count": 17,
   "metadata": {},
   "outputs": [
    {
     "output_type": "stream",
     "name": "stdout",
     "text": [
      "Each person should pay: 70.0€\n"
     ]
    }
   ],
   "source": [
    "split_amount = total_mount_spent / total_number_of_friends\n",
    "print(\"Each person should pay: {}€\".format(split_amount))"
   ]
  },
  {
   "cell_type": "code",
   "execution_count": null,
   "metadata": {},
   "outputs": [],
   "source": []
  }
 ]
}
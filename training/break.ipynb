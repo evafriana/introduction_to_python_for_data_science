{
 "metadata": {
  "language_info": {
   "codemirror_mode": {
    "name": "ipython",
    "version": 3
   },
   "file_extension": ".py",
   "mimetype": "text/x-python",
   "name": "python",
   "nbconvert_exporter": "python",
   "pygments_lexer": "ipython3",
   "version": "3.7.3-final"
  },
  "orig_nbformat": 2,
  "kernelspec": {
   "name": "python3",
   "display_name": "Python 3"
  }
 },
 "nbformat": 4,
 "nbformat_minor": 2,
 "cells": [
  {
   "cell_type": "code",
   "execution_count": 3,
   "metadata": {},
   "outputs": [
    {
     "output_type": "stream",
     "name": "stdout",
     "text": [
      "julia\nantoine\nadele\nadele is at index 2\n"
     ]
    }
   ],
   "source": [
    "names = [\"julia\", \"antoine\", \"adele\", \"alex\", \"thomas\"]\n",
    "\n",
    "for i, name in enumerate(names):\n",
    "    search_name=\"adele\"\n",
    "    print(name)\n",
    "    if name == search_name:\n",
    "        print(\"{} is at index {}\".format(search_name, i))\n",
    "        break"
   ]
  },
  {
   "cell_type": "code",
   "execution_count": 4,
   "metadata": {},
   "outputs": [
    {
     "output_type": "stream",
     "name": "stdout",
     "text": [
      "julia\nantoine\nalex\nthomas\n"
     ]
    }
   ],
   "source": [
    "for i, name in enumerate(names):\n",
    "    search_name=\"adele\"\n",
    "\n",
    "    if name == search_name:\n",
    "        continue\n",
    "    print(name)"
   ]
  },
  {
   "cell_type": "code",
   "execution_count": null,
   "metadata": {},
   "outputs": [],
   "source": []
  }
 ]
}
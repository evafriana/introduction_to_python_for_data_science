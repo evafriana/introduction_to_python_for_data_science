{
 "metadata": {
  "language_info": {
   "codemirror_mode": {
    "name": "ipython",
    "version": 3
   },
   "file_extension": ".py",
   "mimetype": "text/x-python",
   "name": "python",
   "nbconvert_exporter": "python",
   "pygments_lexer": "ipython3",
   "version": "3.7.3-final"
  },
  "orig_nbformat": 2,
  "kernelspec": {
   "name": "python3",
   "display_name": "Python 3"
  }
 },
 "nbformat": 4,
 "nbformat_minor": 2,
 "cells": [
  {
   "cell_type": "code",
   "execution_count": 3,
   "metadata": {},
   "outputs": [
    {
     "output_type": "stream",
     "name": "stdout",
     "text": [
      "{'APPLE': 274, 'GOOGLE': 1250, 'MICROSOFT': 172, 'AMAZON': 2369}\n"
     ]
    }
   ],
   "source": [
    "stocks = {\"APPLE\": 274, \"GOOGLE\": 1250, \"MICROSOFT\": 172, \"AMAZON\": 2369}\n",
    "print(stocks)"
   ]
  },
  {
   "cell_type": "code",
   "execution_count": 4,
   "metadata": {},
   "outputs": [
    {
     "output_type": "stream",
     "name": "stdout",
     "text": [
      "APPLE 274\nGOOGLE 1250\nMICROSOFT 172\nAMAZON 2369\n"
     ]
    }
   ],
   "source": [
    "for key, value in stocks.items():\n",
    "    print(key, value)"
   ]
  },
  {
   "cell_type": "code",
   "execution_count": 5,
   "metadata": {},
   "outputs": [
    {
     "output_type": "stream",
     "name": "stdout",
     "text": [
      "APPLE\nGOOGLE\nMICROSOFT\nAMAZON\n274\n1250\n172\n2369\n"
     ]
    }
   ],
   "source": [
    "for key in stocks.keys():\n",
    "    print(key)\n",
    "\n",
    "for value in stocks.values():\n",
    "    print(value)"
   ]
  },
  {
   "cell_type": "code",
   "execution_count": 6,
   "metadata": {},
   "outputs": [
    {
     "output_type": "execute_result",
     "data": {
      "text/plain": [
       "{'APPLE': 252.08, 'GOOGLE': 1150.0, 'MICROSOFT': 158.24, 'AMAZON': 2179.48}"
      ]
     },
     "metadata": {},
     "execution_count": 6
    }
   ],
   "source": [
    "dollar_to_euro = 0.92\n",
    "{key: value * dollar_to_euro for key, value in stocks.items()}"
   ]
  },
  {
   "cell_type": "code",
   "execution_count": 7,
   "metadata": {},
   "outputs": [
    {
     "output_type": "execute_result",
     "data": {
      "text/plain": [
       "{'GOOGLE': 1250, 'AMAZON': 2369}"
      ]
     },
     "metadata": {},
     "execution_count": 7
    }
   ],
   "source": [
    "{key: value for key, value in stocks.items() if value > 1000}"
   ]
  },
  {
   "cell_type": "code",
   "execution_count": 8,
   "metadata": {},
   "outputs": [
    {
     "output_type": "execute_result",
     "data": {
      "text/plain": [
       "{'APPLE': 'low price',\n",
       " 'GOOGLE': 'high price',\n",
       " 'MICROSOFT': 'low price',\n",
       " 'AMAZON': 'high price'}"
      ]
     },
     "metadata": {},
     "execution_count": 8
    }
   ],
   "source": [
    "{key: (\"low price\" if value < 1000 else \"high price\") for key, value in stocks.items()}"
   ]
  },
  {
   "cell_type": "code",
   "execution_count": null,
   "metadata": {},
   "outputs": [],
   "source": []
  }
 ]
}
{
 "metadata": {
  "language_info": {
   "codemirror_mode": {
    "name": "ipython",
    "version": 3
   },
   "file_extension": ".py",
   "mimetype": "text/x-python",
   "name": "python",
   "nbconvert_exporter": "python",
   "pygments_lexer": "ipython3",
   "version": "3.7.3-final"
  },
  "orig_nbformat": 2,
  "kernelspec": {
   "name": "python3",
   "display_name": "Python 3"
  }
 },
 "nbformat": 4,
 "nbformat_minor": 2,
 "cells": [
  {
   "cell_type": "code",
   "execution_count": 1,
   "metadata": {},
   "outputs": [
    {
     "output_type": "stream",
     "name": "stdout",
     "text": [
      "/Users/evaafriana/Desktop/introduction_to_python_for_data_science/pandas_training\n"
     ]
    }
   ],
   "source": [
    "!pwd"
   ]
  },
  {
   "cell_type": "code",
   "execution_count": 2,
   "metadata": {},
   "outputs": [],
   "source": [
    "path_to_file = \"/Users/evaafriana/Desktop/introduction_to_python_for_data_science/pandas_training\""
   ]
  },
  {
   "cell_type": "code",
   "execution_count": 6,
   "metadata": {},
   "outputs": [
    {
     "output_type": "execute_result",
     "data": {
      "text/plain": [
       "   Unnamed: 0     dateRep  day  ...  countryterritoryCode  popData2018  continentExp\n",
       "0        1257  2020-04-23   23  ...                   BEL   11422068.0        Europe\n",
       "1        1258  2020-04-22   22  ...                   BEL   11422068.0        Europe\n",
       "2        1259  2020-04-21   21  ...                   BEL   11422068.0        Europe\n",
       "3        1260  2020-04-20   20  ...                   BEL   11422068.0        Europe\n",
       "4        1261  2020-04-19   19  ...                   BEL   11422068.0        Europe\n",
       "\n",
       "[5 rows x 12 columns]"
      ],
      "text/html": "<div>\n<style scoped>\n    .dataframe tbody tr th:only-of-type {\n        vertical-align: middle;\n    }\n\n    .dataframe tbody tr th {\n        vertical-align: top;\n    }\n\n    .dataframe thead th {\n        text-align: right;\n    }\n</style>\n<table border=\"1\" class=\"dataframe\">\n  <thead>\n    <tr style=\"text-align: right;\">\n      <th></th>\n      <th>Unnamed: 0</th>\n      <th>dateRep</th>\n      <th>day</th>\n      <th>month</th>\n      <th>year</th>\n      <th>cases</th>\n      <th>deaths</th>\n      <th>countriesAndTerritories</th>\n      <th>geoId</th>\n      <th>countryterritoryCode</th>\n      <th>popData2018</th>\n      <th>continentExp</th>\n    </tr>\n  </thead>\n  <tbody>\n    <tr>\n      <th>0</th>\n      <td>1257</td>\n      <td>2020-04-23</td>\n      <td>23</td>\n      <td>4</td>\n      <td>2020</td>\n      <td>933</td>\n      <td>264</td>\n      <td>Belgium</td>\n      <td>BE</td>\n      <td>BEL</td>\n      <td>11422068.0</td>\n      <td>Europe</td>\n    </tr>\n    <tr>\n      <th>1</th>\n      <td>1258</td>\n      <td>2020-04-22</td>\n      <td>22</td>\n      <td>4</td>\n      <td>2020</td>\n      <td>973</td>\n      <td>170</td>\n      <td>Belgium</td>\n      <td>BE</td>\n      <td>BEL</td>\n      <td>11422068.0</td>\n      <td>Europe</td>\n    </tr>\n    <tr>\n      <th>2</th>\n      <td>1259</td>\n      <td>2020-04-21</td>\n      <td>21</td>\n      <td>4</td>\n      <td>2020</td>\n      <td>1487</td>\n      <td>145</td>\n      <td>Belgium</td>\n      <td>BE</td>\n      <td>BEL</td>\n      <td>11422068.0</td>\n      <td>Europe</td>\n    </tr>\n    <tr>\n      <th>3</th>\n      <td>1260</td>\n      <td>2020-04-20</td>\n      <td>20</td>\n      <td>4</td>\n      <td>2020</td>\n      <td>1313</td>\n      <td>230</td>\n      <td>Belgium</td>\n      <td>BE</td>\n      <td>BEL</td>\n      <td>11422068.0</td>\n      <td>Europe</td>\n    </tr>\n    <tr>\n      <th>4</th>\n      <td>1261</td>\n      <td>2020-04-19</td>\n      <td>19</td>\n      <td>4</td>\n      <td>2020</td>\n      <td>1045</td>\n      <td>290</td>\n      <td>Belgium</td>\n      <td>BE</td>\n      <td>BEL</td>\n      <td>11422068.0</td>\n      <td>Europe</td>\n    </tr>\n  </tbody>\n</table>\n</div>"
     },
     "metadata": {},
     "execution_count": 6
    }
   ],
   "source": [
    "import pandas as pd \n",
    "data = pd.read_csv(path_to_file + \"/covid-19.csv\")\n",
    "data.head()"
   ]
  },
  {
   "cell_type": "code",
   "execution_count": 7,
   "metadata": {},
   "outputs": [
    {
     "output_type": "execute_result",
     "data": {
      "text/plain": [
       "      dateRep  day  month  ...  countryterritoryCode  popData2018  continentExp\n",
       "0  2020-04-23   23      4  ...                   BEL   11422068.0        Europe\n",
       "1  2020-04-22   22      4  ...                   BEL   11422068.0        Europe\n",
       "2  2020-04-21   21      4  ...                   BEL   11422068.0        Europe\n",
       "3  2020-04-20   20      4  ...                   BEL   11422068.0        Europe\n",
       "4  2020-04-19   19      4  ...                   BEL   11422068.0        Europe\n",
       "\n",
       "[5 rows x 11 columns]"
      ],
      "text/html": "<div>\n<style scoped>\n    .dataframe tbody tr th:only-of-type {\n        vertical-align: middle;\n    }\n\n    .dataframe tbody tr th {\n        vertical-align: top;\n    }\n\n    .dataframe thead th {\n        text-align: right;\n    }\n</style>\n<table border=\"1\" class=\"dataframe\">\n  <thead>\n    <tr style=\"text-align: right;\">\n      <th></th>\n      <th>dateRep</th>\n      <th>day</th>\n      <th>month</th>\n      <th>year</th>\n      <th>cases</th>\n      <th>deaths</th>\n      <th>countriesAndTerritories</th>\n      <th>geoId</th>\n      <th>countryterritoryCode</th>\n      <th>popData2018</th>\n      <th>continentExp</th>\n    </tr>\n  </thead>\n  <tbody>\n    <tr>\n      <th>0</th>\n      <td>2020-04-23</td>\n      <td>23</td>\n      <td>4</td>\n      <td>2020</td>\n      <td>933</td>\n      <td>264</td>\n      <td>Belgium</td>\n      <td>BE</td>\n      <td>BEL</td>\n      <td>11422068.0</td>\n      <td>Europe</td>\n    </tr>\n    <tr>\n      <th>1</th>\n      <td>2020-04-22</td>\n      <td>22</td>\n      <td>4</td>\n      <td>2020</td>\n      <td>973</td>\n      <td>170</td>\n      <td>Belgium</td>\n      <td>BE</td>\n      <td>BEL</td>\n      <td>11422068.0</td>\n      <td>Europe</td>\n    </tr>\n    <tr>\n      <th>2</th>\n      <td>2020-04-21</td>\n      <td>21</td>\n      <td>4</td>\n      <td>2020</td>\n      <td>1487</td>\n      <td>145</td>\n      <td>Belgium</td>\n      <td>BE</td>\n      <td>BEL</td>\n      <td>11422068.0</td>\n      <td>Europe</td>\n    </tr>\n    <tr>\n      <th>3</th>\n      <td>2020-04-20</td>\n      <td>20</td>\n      <td>4</td>\n      <td>2020</td>\n      <td>1313</td>\n      <td>230</td>\n      <td>Belgium</td>\n      <td>BE</td>\n      <td>BEL</td>\n      <td>11422068.0</td>\n      <td>Europe</td>\n    </tr>\n    <tr>\n      <th>4</th>\n      <td>2020-04-19</td>\n      <td>19</td>\n      <td>4</td>\n      <td>2020</td>\n      <td>1045</td>\n      <td>290</td>\n      <td>Belgium</td>\n      <td>BE</td>\n      <td>BEL</td>\n      <td>11422068.0</td>\n      <td>Europe</td>\n    </tr>\n  </tbody>\n</table>\n</div>"
     },
     "metadata": {},
     "execution_count": 7
    }
   ],
   "source": [
    "data = data.iloc[:, 1:]\n",
    "data.head()"
   ]
  },
  {
   "cell_type": "code",
   "execution_count": 8,
   "metadata": {},
   "outputs": [
    {
     "output_type": "execute_result",
     "data": {
      "text/plain": [
       "        dateRep  day  month  ...  countryterritoryCode  popData2018  continentExp\n",
       "685  2020-01-04    4      1  ...                   USA  327167434.0       America\n",
       "686  2020-01-03    3      1  ...                   USA  327167434.0       America\n",
       "687  2020-01-02    2      1  ...                   USA  327167434.0       America\n",
       "688  2020-01-01    1      1  ...                   USA  327167434.0       America\n",
       "689  2019-12-31   31     12  ...                   USA  327167434.0       America\n",
       "\n",
       "[5 rows x 11 columns]"
      ],
      "text/html": "<div>\n<style scoped>\n    .dataframe tbody tr th:only-of-type {\n        vertical-align: middle;\n    }\n\n    .dataframe tbody tr th {\n        vertical-align: top;\n    }\n\n    .dataframe thead th {\n        text-align: right;\n    }\n</style>\n<table border=\"1\" class=\"dataframe\">\n  <thead>\n    <tr style=\"text-align: right;\">\n      <th></th>\n      <th>dateRep</th>\n      <th>day</th>\n      <th>month</th>\n      <th>year</th>\n      <th>cases</th>\n      <th>deaths</th>\n      <th>countriesAndTerritories</th>\n      <th>geoId</th>\n      <th>countryterritoryCode</th>\n      <th>popData2018</th>\n      <th>continentExp</th>\n    </tr>\n  </thead>\n  <tbody>\n    <tr>\n      <th>685</th>\n      <td>2020-01-04</td>\n      <td>4</td>\n      <td>1</td>\n      <td>2020</td>\n      <td>0</td>\n      <td>0</td>\n      <td>United_States_of_America</td>\n      <td>US</td>\n      <td>USA</td>\n      <td>327167434.0</td>\n      <td>America</td>\n    </tr>\n    <tr>\n      <th>686</th>\n      <td>2020-01-03</td>\n      <td>3</td>\n      <td>1</td>\n      <td>2020</td>\n      <td>0</td>\n      <td>0</td>\n      <td>United_States_of_America</td>\n      <td>US</td>\n      <td>USA</td>\n      <td>327167434.0</td>\n      <td>America</td>\n    </tr>\n    <tr>\n      <th>687</th>\n      <td>2020-01-02</td>\n      <td>2</td>\n      <td>1</td>\n      <td>2020</td>\n      <td>0</td>\n      <td>0</td>\n      <td>United_States_of_America</td>\n      <td>US</td>\n      <td>USA</td>\n      <td>327167434.0</td>\n      <td>America</td>\n    </tr>\n    <tr>\n      <th>688</th>\n      <td>2020-01-01</td>\n      <td>1</td>\n      <td>1</td>\n      <td>2020</td>\n      <td>0</td>\n      <td>0</td>\n      <td>United_States_of_America</td>\n      <td>US</td>\n      <td>USA</td>\n      <td>327167434.0</td>\n      <td>America</td>\n    </tr>\n    <tr>\n      <th>689</th>\n      <td>2019-12-31</td>\n      <td>31</td>\n      <td>12</td>\n      <td>2019</td>\n      <td>0</td>\n      <td>0</td>\n      <td>United_States_of_America</td>\n      <td>US</td>\n      <td>USA</td>\n      <td>327167434.0</td>\n      <td>America</td>\n    </tr>\n  </tbody>\n</table>\n</div>"
     },
     "metadata": {},
     "execution_count": 8
    }
   ],
   "source": [
    "data.tail()"
   ]
  },
  {
   "cell_type": "code",
   "execution_count": 9,
   "metadata": {},
   "outputs": [
    {
     "output_type": "execute_result",
     "data": {
      "text/plain": [
       "0       True\n",
       "1       True\n",
       "2       True\n",
       "3       True\n",
       "4       True\n",
       "5       True\n",
       "6       True\n",
       "7       True\n",
       "8       True\n",
       "9       True\n",
       "10      True\n",
       "11      True\n",
       "12      True\n",
       "13      True\n",
       "14      True\n",
       "15      True\n",
       "16      True\n",
       "17      True\n",
       "18      True\n",
       "19      True\n",
       "20      True\n",
       "21      True\n",
       "22      True\n",
       "23      True\n",
       "24      True\n",
       "25      True\n",
       "26      True\n",
       "27      True\n",
       "28      True\n",
       "29      True\n",
       "       ...  \n",
       "660    False\n",
       "661    False\n",
       "662    False\n",
       "663    False\n",
       "664    False\n",
       "665    False\n",
       "666    False\n",
       "667    False\n",
       "668    False\n",
       "669    False\n",
       "670    False\n",
       "671    False\n",
       "672    False\n",
       "673    False\n",
       "674    False\n",
       "675    False\n",
       "676    False\n",
       "677    False\n",
       "678    False\n",
       "679    False\n",
       "680    False\n",
       "681    False\n",
       "682    False\n",
       "683    False\n",
       "684    False\n",
       "685    False\n",
       "686    False\n",
       "687    False\n",
       "688    False\n",
       "689    False\n",
       "Name: geoId, Length: 690, dtype: bool"
      ]
     },
     "metadata": {},
     "execution_count": 9
    }
   ],
   "source": [
    "data[\"geoId\"] == \"BE\""
   ]
  },
  {
   "cell_type": "code",
   "execution_count": 10,
   "metadata": {},
   "outputs": [
    {
     "output_type": "execute_result",
     "data": {
      "text/plain": [
       "        dateRep  day  month  ...  countryterritoryCode  popData2018  continentExp\n",
       "0    2020-04-23   23      4  ...                   BEL   11422068.0        Europe\n",
       "1    2020-04-22   22      4  ...                   BEL   11422068.0        Europe\n",
       "2    2020-04-21   21      4  ...                   BEL   11422068.0        Europe\n",
       "3    2020-04-20   20      4  ...                   BEL   11422068.0        Europe\n",
       "4    2020-04-19   19      4  ...                   BEL   11422068.0        Europe\n",
       "5    2020-04-18   18      4  ...                   BEL   11422068.0        Europe\n",
       "6    2020-04-17   17      4  ...                   BEL   11422068.0        Europe\n",
       "7    2020-04-16   16      4  ...                   BEL   11422068.0        Europe\n",
       "8    2020-04-15   15      4  ...                   BEL   11422068.0        Europe\n",
       "9    2020-04-14   14      4  ...                   BEL   11422068.0        Europe\n",
       "10   2020-04-13   13      4  ...                   BEL   11422068.0        Europe\n",
       "11   2020-04-12   12      4  ...                   BEL   11422068.0        Europe\n",
       "12   2020-04-11   11      4  ...                   BEL   11422068.0        Europe\n",
       "13   2020-04-10   10      4  ...                   BEL   11422068.0        Europe\n",
       "14   2020-04-09    9      4  ...                   BEL   11422068.0        Europe\n",
       "15   2020-04-08    8      4  ...                   BEL   11422068.0        Europe\n",
       "16   2020-04-07    7      4  ...                   BEL   11422068.0        Europe\n",
       "17   2020-04-06    6      4  ...                   BEL   11422068.0        Europe\n",
       "18   2020-04-05    5      4  ...                   BEL   11422068.0        Europe\n",
       "19   2020-04-04    4      4  ...                   BEL   11422068.0        Europe\n",
       "20   2020-04-03    3      4  ...                   BEL   11422068.0        Europe\n",
       "21   2020-04-02    2      4  ...                   BEL   11422068.0        Europe\n",
       "22   2020-04-01    1      4  ...                   BEL   11422068.0        Europe\n",
       "23   2020-03-31   31      3  ...                   BEL   11422068.0        Europe\n",
       "24   2020-03-30   30      3  ...                   BEL   11422068.0        Europe\n",
       "25   2020-03-29   29      3  ...                   BEL   11422068.0        Europe\n",
       "26   2020-03-28   28      3  ...                   BEL   11422068.0        Europe\n",
       "27   2020-03-27   27      3  ...                   BEL   11422068.0        Europe\n",
       "28   2020-03-26   26      3  ...                   BEL   11422068.0        Europe\n",
       "29   2020-03-25   25      3  ...                   BEL   11422068.0        Europe\n",
       "..          ...  ...    ...  ...                   ...          ...           ...\n",
       "85   2020-01-29   29      1  ...                   BEL   11422068.0        Europe\n",
       "86   2020-01-28   28      1  ...                   BEL   11422068.0        Europe\n",
       "87   2020-01-27   27      1  ...                   BEL   11422068.0        Europe\n",
       "88   2020-01-26   26      1  ...                   BEL   11422068.0        Europe\n",
       "89   2020-01-25   25      1  ...                   BEL   11422068.0        Europe\n",
       "90   2020-01-24   24      1  ...                   BEL   11422068.0        Europe\n",
       "91   2020-01-23   23      1  ...                   BEL   11422068.0        Europe\n",
       "92   2020-01-22   22      1  ...                   BEL   11422068.0        Europe\n",
       "93   2020-01-21   21      1  ...                   BEL   11422068.0        Europe\n",
       "94   2020-01-20   20      1  ...                   BEL   11422068.0        Europe\n",
       "95   2020-01-19   19      1  ...                   BEL   11422068.0        Europe\n",
       "96   2020-01-18   18      1  ...                   BEL   11422068.0        Europe\n",
       "97   2020-01-17   17      1  ...                   BEL   11422068.0        Europe\n",
       "98   2020-01-16   16      1  ...                   BEL   11422068.0        Europe\n",
       "99   2020-01-15   15      1  ...                   BEL   11422068.0        Europe\n",
       "100  2020-01-14   14      1  ...                   BEL   11422068.0        Europe\n",
       "101  2020-01-13   13      1  ...                   BEL   11422068.0        Europe\n",
       "102  2020-01-12   12      1  ...                   BEL   11422068.0        Europe\n",
       "103  2020-01-11   11      1  ...                   BEL   11422068.0        Europe\n",
       "104  2020-01-10   10      1  ...                   BEL   11422068.0        Europe\n",
       "105  2020-01-09    9      1  ...                   BEL   11422068.0        Europe\n",
       "106  2020-01-08    8      1  ...                   BEL   11422068.0        Europe\n",
       "107  2020-01-07    7      1  ...                   BEL   11422068.0        Europe\n",
       "108  2020-01-06    6      1  ...                   BEL   11422068.0        Europe\n",
       "109  2020-01-05    5      1  ...                   BEL   11422068.0        Europe\n",
       "110  2020-01-04    4      1  ...                   BEL   11422068.0        Europe\n",
       "111  2020-01-03    3      1  ...                   BEL   11422068.0        Europe\n",
       "112  2020-01-02    2      1  ...                   BEL   11422068.0        Europe\n",
       "113  2020-01-01    1      1  ...                   BEL   11422068.0        Europe\n",
       "114  2019-12-31   31     12  ...                   BEL   11422068.0        Europe\n",
       "\n",
       "[115 rows x 11 columns]"
      ],
      "text/html": "<div>\n<style scoped>\n    .dataframe tbody tr th:only-of-type {\n        vertical-align: middle;\n    }\n\n    .dataframe tbody tr th {\n        vertical-align: top;\n    }\n\n    .dataframe thead th {\n        text-align: right;\n    }\n</style>\n<table border=\"1\" class=\"dataframe\">\n  <thead>\n    <tr style=\"text-align: right;\">\n      <th></th>\n      <th>dateRep</th>\n      <th>day</th>\n      <th>month</th>\n      <th>year</th>\n      <th>cases</th>\n      <th>deaths</th>\n      <th>countriesAndTerritories</th>\n      <th>geoId</th>\n      <th>countryterritoryCode</th>\n      <th>popData2018</th>\n      <th>continentExp</th>\n    </tr>\n  </thead>\n  <tbody>\n    <tr>\n      <th>0</th>\n      <td>2020-04-23</td>\n      <td>23</td>\n      <td>4</td>\n      <td>2020</td>\n      <td>933</td>\n      <td>264</td>\n      <td>Belgium</td>\n      <td>BE</td>\n      <td>BEL</td>\n      <td>11422068.0</td>\n      <td>Europe</td>\n    </tr>\n    <tr>\n      <th>1</th>\n      <td>2020-04-22</td>\n      <td>22</td>\n      <td>4</td>\n      <td>2020</td>\n      <td>973</td>\n      <td>170</td>\n      <td>Belgium</td>\n      <td>BE</td>\n      <td>BEL</td>\n      <td>11422068.0</td>\n      <td>Europe</td>\n    </tr>\n    <tr>\n      <th>2</th>\n      <td>2020-04-21</td>\n      <td>21</td>\n      <td>4</td>\n      <td>2020</td>\n      <td>1487</td>\n      <td>145</td>\n      <td>Belgium</td>\n      <td>BE</td>\n      <td>BEL</td>\n      <td>11422068.0</td>\n      <td>Europe</td>\n    </tr>\n    <tr>\n      <th>3</th>\n      <td>2020-04-20</td>\n      <td>20</td>\n      <td>4</td>\n      <td>2020</td>\n      <td>1313</td>\n      <td>230</td>\n      <td>Belgium</td>\n      <td>BE</td>\n      <td>BEL</td>\n      <td>11422068.0</td>\n      <td>Europe</td>\n    </tr>\n    <tr>\n      <th>4</th>\n      <td>2020-04-19</td>\n      <td>19</td>\n      <td>4</td>\n      <td>2020</td>\n      <td>1045</td>\n      <td>290</td>\n      <td>Belgium</td>\n      <td>BE</td>\n      <td>BEL</td>\n      <td>11422068.0</td>\n      <td>Europe</td>\n    </tr>\n    <tr>\n      <th>5</th>\n      <td>2020-04-18</td>\n      <td>18</td>\n      <td>4</td>\n      <td>2020</td>\n      <td>1329</td>\n      <td>306</td>\n      <td>Belgium</td>\n      <td>BE</td>\n      <td>BEL</td>\n      <td>11422068.0</td>\n      <td>Europe</td>\n    </tr>\n    <tr>\n      <th>6</th>\n      <td>2020-04-17</td>\n      <td>17</td>\n      <td>4</td>\n      <td>2020</td>\n      <td>1236</td>\n      <td>417</td>\n      <td>Belgium</td>\n      <td>BE</td>\n      <td>BEL</td>\n      <td>11422068.0</td>\n      <td>Europe</td>\n    </tr>\n    <tr>\n      <th>7</th>\n      <td>2020-04-16</td>\n      <td>16</td>\n      <td>4</td>\n      <td>2020</td>\n      <td>2454</td>\n      <td>283</td>\n      <td>Belgium</td>\n      <td>BE</td>\n      <td>BEL</td>\n      <td>11422068.0</td>\n      <td>Europe</td>\n    </tr>\n    <tr>\n      <th>8</th>\n      <td>2020-04-15</td>\n      <td>15</td>\n      <td>4</td>\n      <td>2020</td>\n      <td>530</td>\n      <td>254</td>\n      <td>Belgium</td>\n      <td>BE</td>\n      <td>BEL</td>\n      <td>11422068.0</td>\n      <td>Europe</td>\n    </tr>\n    <tr>\n      <th>9</th>\n      <td>2020-04-14</td>\n      <td>14</td>\n      <td>4</td>\n      <td>2020</td>\n      <td>942</td>\n      <td>303</td>\n      <td>Belgium</td>\n      <td>BE</td>\n      <td>BEL</td>\n      <td>11422068.0</td>\n      <td>Europe</td>\n    </tr>\n    <tr>\n      <th>10</th>\n      <td>2020-04-13</td>\n      <td>13</td>\n      <td>4</td>\n      <td>2020</td>\n      <td>1629</td>\n      <td>254</td>\n      <td>Belgium</td>\n      <td>BE</td>\n      <td>BEL</td>\n      <td>11422068.0</td>\n      <td>Europe</td>\n    </tr>\n    <tr>\n      <th>11</th>\n      <td>2020-04-12</td>\n      <td>12</td>\n      <td>4</td>\n      <td>2020</td>\n      <td>1351</td>\n      <td>327</td>\n      <td>Belgium</td>\n      <td>BE</td>\n      <td>BEL</td>\n      <td>11422068.0</td>\n      <td>Europe</td>\n    </tr>\n    <tr>\n      <th>12</th>\n      <td>2020-04-11</td>\n      <td>11</td>\n      <td>4</td>\n      <td>2020</td>\n      <td>1684</td>\n      <td>496</td>\n      <td>Belgium</td>\n      <td>BE</td>\n      <td>BEL</td>\n      <td>11422068.0</td>\n      <td>Europe</td>\n    </tr>\n    <tr>\n      <th>13</th>\n      <td>2020-04-10</td>\n      <td>10</td>\n      <td>4</td>\n      <td>2020</td>\n      <td>1580</td>\n      <td>283</td>\n      <td>Belgium</td>\n      <td>BE</td>\n      <td>BEL</td>\n      <td>11422068.0</td>\n      <td>Europe</td>\n    </tr>\n    <tr>\n      <th>14</th>\n      <td>2020-04-09</td>\n      <td>9</td>\n      <td>4</td>\n      <td>2020</td>\n      <td>1209</td>\n      <td>205</td>\n      <td>Belgium</td>\n      <td>BE</td>\n      <td>BEL</td>\n      <td>11422068.0</td>\n      <td>Europe</td>\n    </tr>\n    <tr>\n      <th>15</th>\n      <td>2020-04-08</td>\n      <td>8</td>\n      <td>4</td>\n      <td>2020</td>\n      <td>1380</td>\n      <td>403</td>\n      <td>Belgium</td>\n      <td>BE</td>\n      <td>BEL</td>\n      <td>11422068.0</td>\n      <td>Europe</td>\n    </tr>\n    <tr>\n      <th>16</th>\n      <td>2020-04-07</td>\n      <td>7</td>\n      <td>4</td>\n      <td>2020</td>\n      <td>1123</td>\n      <td>185</td>\n      <td>Belgium</td>\n      <td>BE</td>\n      <td>BEL</td>\n      <td>11422068.0</td>\n      <td>Europe</td>\n    </tr>\n    <tr>\n      <th>17</th>\n      <td>2020-04-06</td>\n      <td>6</td>\n      <td>4</td>\n      <td>2020</td>\n      <td>1260</td>\n      <td>164</td>\n      <td>Belgium</td>\n      <td>BE</td>\n      <td>BEL</td>\n      <td>11422068.0</td>\n      <td>Europe</td>\n    </tr>\n    <tr>\n      <th>18</th>\n      <td>2020-04-05</td>\n      <td>5</td>\n      <td>4</td>\n      <td>2020</td>\n      <td>1661</td>\n      <td>140</td>\n      <td>Belgium</td>\n      <td>BE</td>\n      <td>BEL</td>\n      <td>11422068.0</td>\n      <td>Europe</td>\n    </tr>\n    <tr>\n      <th>19</th>\n      <td>2020-04-04</td>\n      <td>4</td>\n      <td>4</td>\n      <td>2020</td>\n      <td>1422</td>\n      <td>132</td>\n      <td>Belgium</td>\n      <td>BE</td>\n      <td>BEL</td>\n      <td>11422068.0</td>\n      <td>Europe</td>\n    </tr>\n    <tr>\n      <th>20</th>\n      <td>2020-04-03</td>\n      <td>3</td>\n      <td>4</td>\n      <td>2020</td>\n      <td>1384</td>\n      <td>183</td>\n      <td>Belgium</td>\n      <td>BE</td>\n      <td>BEL</td>\n      <td>11422068.0</td>\n      <td>Europe</td>\n    </tr>\n    <tr>\n      <th>21</th>\n      <td>2020-04-02</td>\n      <td>2</td>\n      <td>4</td>\n      <td>2020</td>\n      <td>1189</td>\n      <td>123</td>\n      <td>Belgium</td>\n      <td>BE</td>\n      <td>BEL</td>\n      <td>11422068.0</td>\n      <td>Europe</td>\n    </tr>\n    <tr>\n      <th>22</th>\n      <td>2020-04-01</td>\n      <td>1</td>\n      <td>4</td>\n      <td>2020</td>\n      <td>876</td>\n      <td>192</td>\n      <td>Belgium</td>\n      <td>BE</td>\n      <td>BEL</td>\n      <td>11422068.0</td>\n      <td>Europe</td>\n    </tr>\n    <tr>\n      <th>23</th>\n      <td>2020-03-31</td>\n      <td>31</td>\n      <td>3</td>\n      <td>2020</td>\n      <td>1063</td>\n      <td>82</td>\n      <td>Belgium</td>\n      <td>BE</td>\n      <td>BEL</td>\n      <td>11422068.0</td>\n      <td>Europe</td>\n    </tr>\n    <tr>\n      <th>24</th>\n      <td>2020-03-30</td>\n      <td>30</td>\n      <td>3</td>\n      <td>2020</td>\n      <td>1702</td>\n      <td>78</td>\n      <td>Belgium</td>\n      <td>BE</td>\n      <td>BEL</td>\n      <td>11422068.0</td>\n      <td>Europe</td>\n    </tr>\n    <tr>\n      <th>25</th>\n      <td>2020-03-29</td>\n      <td>29</td>\n      <td>3</td>\n      <td>2020</td>\n      <td>1850</td>\n      <td>64</td>\n      <td>Belgium</td>\n      <td>BE</td>\n      <td>BEL</td>\n      <td>11422068.0</td>\n      <td>Europe</td>\n    </tr>\n    <tr>\n      <th>26</th>\n      <td>2020-03-28</td>\n      <td>28</td>\n      <td>3</td>\n      <td>2020</td>\n      <td>1049</td>\n      <td>69</td>\n      <td>Belgium</td>\n      <td>BE</td>\n      <td>BEL</td>\n      <td>11422068.0</td>\n      <td>Europe</td>\n    </tr>\n    <tr>\n      <th>27</th>\n      <td>2020-03-27</td>\n      <td>27</td>\n      <td>3</td>\n      <td>2020</td>\n      <td>1298</td>\n      <td>42</td>\n      <td>Belgium</td>\n      <td>BE</td>\n      <td>BEL</td>\n      <td>11422068.0</td>\n      <td>Europe</td>\n    </tr>\n    <tr>\n      <th>28</th>\n      <td>2020-03-26</td>\n      <td>26</td>\n      <td>3</td>\n      <td>2020</td>\n      <td>668</td>\n      <td>56</td>\n      <td>Belgium</td>\n      <td>BE</td>\n      <td>BEL</td>\n      <td>11422068.0</td>\n      <td>Europe</td>\n    </tr>\n    <tr>\n      <th>29</th>\n      <td>2020-03-25</td>\n      <td>25</td>\n      <td>3</td>\n      <td>2020</td>\n      <td>526</td>\n      <td>34</td>\n      <td>Belgium</td>\n      <td>BE</td>\n      <td>BEL</td>\n      <td>11422068.0</td>\n      <td>Europe</td>\n    </tr>\n    <tr>\n      <th>...</th>\n      <td>...</td>\n      <td>...</td>\n      <td>...</td>\n      <td>...</td>\n      <td>...</td>\n      <td>...</td>\n      <td>...</td>\n      <td>...</td>\n      <td>...</td>\n      <td>...</td>\n      <td>...</td>\n    </tr>\n    <tr>\n      <th>85</th>\n      <td>2020-01-29</td>\n      <td>29</td>\n      <td>1</td>\n      <td>2020</td>\n      <td>0</td>\n      <td>0</td>\n      <td>Belgium</td>\n      <td>BE</td>\n      <td>BEL</td>\n      <td>11422068.0</td>\n      <td>Europe</td>\n    </tr>\n    <tr>\n      <th>86</th>\n      <td>2020-01-28</td>\n      <td>28</td>\n      <td>1</td>\n      <td>2020</td>\n      <td>0</td>\n      <td>0</td>\n      <td>Belgium</td>\n      <td>BE</td>\n      <td>BEL</td>\n      <td>11422068.0</td>\n      <td>Europe</td>\n    </tr>\n    <tr>\n      <th>87</th>\n      <td>2020-01-27</td>\n      <td>27</td>\n      <td>1</td>\n      <td>2020</td>\n      <td>0</td>\n      <td>0</td>\n      <td>Belgium</td>\n      <td>BE</td>\n      <td>BEL</td>\n      <td>11422068.0</td>\n      <td>Europe</td>\n    </tr>\n    <tr>\n      <th>88</th>\n      <td>2020-01-26</td>\n      <td>26</td>\n      <td>1</td>\n      <td>2020</td>\n      <td>0</td>\n      <td>0</td>\n      <td>Belgium</td>\n      <td>BE</td>\n      <td>BEL</td>\n      <td>11422068.0</td>\n      <td>Europe</td>\n    </tr>\n    <tr>\n      <th>89</th>\n      <td>2020-01-25</td>\n      <td>25</td>\n      <td>1</td>\n      <td>2020</td>\n      <td>0</td>\n      <td>0</td>\n      <td>Belgium</td>\n      <td>BE</td>\n      <td>BEL</td>\n      <td>11422068.0</td>\n      <td>Europe</td>\n    </tr>\n    <tr>\n      <th>90</th>\n      <td>2020-01-24</td>\n      <td>24</td>\n      <td>1</td>\n      <td>2020</td>\n      <td>0</td>\n      <td>0</td>\n      <td>Belgium</td>\n      <td>BE</td>\n      <td>BEL</td>\n      <td>11422068.0</td>\n      <td>Europe</td>\n    </tr>\n    <tr>\n      <th>91</th>\n      <td>2020-01-23</td>\n      <td>23</td>\n      <td>1</td>\n      <td>2020</td>\n      <td>0</td>\n      <td>0</td>\n      <td>Belgium</td>\n      <td>BE</td>\n      <td>BEL</td>\n      <td>11422068.0</td>\n      <td>Europe</td>\n    </tr>\n    <tr>\n      <th>92</th>\n      <td>2020-01-22</td>\n      <td>22</td>\n      <td>1</td>\n      <td>2020</td>\n      <td>0</td>\n      <td>0</td>\n      <td>Belgium</td>\n      <td>BE</td>\n      <td>BEL</td>\n      <td>11422068.0</td>\n      <td>Europe</td>\n    </tr>\n    <tr>\n      <th>93</th>\n      <td>2020-01-21</td>\n      <td>21</td>\n      <td>1</td>\n      <td>2020</td>\n      <td>0</td>\n      <td>0</td>\n      <td>Belgium</td>\n      <td>BE</td>\n      <td>BEL</td>\n      <td>11422068.0</td>\n      <td>Europe</td>\n    </tr>\n    <tr>\n      <th>94</th>\n      <td>2020-01-20</td>\n      <td>20</td>\n      <td>1</td>\n      <td>2020</td>\n      <td>0</td>\n      <td>0</td>\n      <td>Belgium</td>\n      <td>BE</td>\n      <td>BEL</td>\n      <td>11422068.0</td>\n      <td>Europe</td>\n    </tr>\n    <tr>\n      <th>95</th>\n      <td>2020-01-19</td>\n      <td>19</td>\n      <td>1</td>\n      <td>2020</td>\n      <td>0</td>\n      <td>0</td>\n      <td>Belgium</td>\n      <td>BE</td>\n      <td>BEL</td>\n      <td>11422068.0</td>\n      <td>Europe</td>\n    </tr>\n    <tr>\n      <th>96</th>\n      <td>2020-01-18</td>\n      <td>18</td>\n      <td>1</td>\n      <td>2020</td>\n      <td>0</td>\n      <td>0</td>\n      <td>Belgium</td>\n      <td>BE</td>\n      <td>BEL</td>\n      <td>11422068.0</td>\n      <td>Europe</td>\n    </tr>\n    <tr>\n      <th>97</th>\n      <td>2020-01-17</td>\n      <td>17</td>\n      <td>1</td>\n      <td>2020</td>\n      <td>0</td>\n      <td>0</td>\n      <td>Belgium</td>\n      <td>BE</td>\n      <td>BEL</td>\n      <td>11422068.0</td>\n      <td>Europe</td>\n    </tr>\n    <tr>\n      <th>98</th>\n      <td>2020-01-16</td>\n      <td>16</td>\n      <td>1</td>\n      <td>2020</td>\n      <td>0</td>\n      <td>0</td>\n      <td>Belgium</td>\n      <td>BE</td>\n      <td>BEL</td>\n      <td>11422068.0</td>\n      <td>Europe</td>\n    </tr>\n    <tr>\n      <th>99</th>\n      <td>2020-01-15</td>\n      <td>15</td>\n      <td>1</td>\n      <td>2020</td>\n      <td>0</td>\n      <td>0</td>\n      <td>Belgium</td>\n      <td>BE</td>\n      <td>BEL</td>\n      <td>11422068.0</td>\n      <td>Europe</td>\n    </tr>\n    <tr>\n      <th>100</th>\n      <td>2020-01-14</td>\n      <td>14</td>\n      <td>1</td>\n      <td>2020</td>\n      <td>0</td>\n      <td>0</td>\n      <td>Belgium</td>\n      <td>BE</td>\n      <td>BEL</td>\n      <td>11422068.0</td>\n      <td>Europe</td>\n    </tr>\n    <tr>\n      <th>101</th>\n      <td>2020-01-13</td>\n      <td>13</td>\n      <td>1</td>\n      <td>2020</td>\n      <td>0</td>\n      <td>0</td>\n      <td>Belgium</td>\n      <td>BE</td>\n      <td>BEL</td>\n      <td>11422068.0</td>\n      <td>Europe</td>\n    </tr>\n    <tr>\n      <th>102</th>\n      <td>2020-01-12</td>\n      <td>12</td>\n      <td>1</td>\n      <td>2020</td>\n      <td>0</td>\n      <td>0</td>\n      <td>Belgium</td>\n      <td>BE</td>\n      <td>BEL</td>\n      <td>11422068.0</td>\n      <td>Europe</td>\n    </tr>\n    <tr>\n      <th>103</th>\n      <td>2020-01-11</td>\n      <td>11</td>\n      <td>1</td>\n      <td>2020</td>\n      <td>0</td>\n      <td>0</td>\n      <td>Belgium</td>\n      <td>BE</td>\n      <td>BEL</td>\n      <td>11422068.0</td>\n      <td>Europe</td>\n    </tr>\n    <tr>\n      <th>104</th>\n      <td>2020-01-10</td>\n      <td>10</td>\n      <td>1</td>\n      <td>2020</td>\n      <td>0</td>\n      <td>0</td>\n      <td>Belgium</td>\n      <td>BE</td>\n      <td>BEL</td>\n      <td>11422068.0</td>\n      <td>Europe</td>\n    </tr>\n    <tr>\n      <th>105</th>\n      <td>2020-01-09</td>\n      <td>9</td>\n      <td>1</td>\n      <td>2020</td>\n      <td>0</td>\n      <td>0</td>\n      <td>Belgium</td>\n      <td>BE</td>\n      <td>BEL</td>\n      <td>11422068.0</td>\n      <td>Europe</td>\n    </tr>\n    <tr>\n      <th>106</th>\n      <td>2020-01-08</td>\n      <td>8</td>\n      <td>1</td>\n      <td>2020</td>\n      <td>0</td>\n      <td>0</td>\n      <td>Belgium</td>\n      <td>BE</td>\n      <td>BEL</td>\n      <td>11422068.0</td>\n      <td>Europe</td>\n    </tr>\n    <tr>\n      <th>107</th>\n      <td>2020-01-07</td>\n      <td>7</td>\n      <td>1</td>\n      <td>2020</td>\n      <td>0</td>\n      <td>0</td>\n      <td>Belgium</td>\n      <td>BE</td>\n      <td>BEL</td>\n      <td>11422068.0</td>\n      <td>Europe</td>\n    </tr>\n    <tr>\n      <th>108</th>\n      <td>2020-01-06</td>\n      <td>6</td>\n      <td>1</td>\n      <td>2020</td>\n      <td>0</td>\n      <td>0</td>\n      <td>Belgium</td>\n      <td>BE</td>\n      <td>BEL</td>\n      <td>11422068.0</td>\n      <td>Europe</td>\n    </tr>\n    <tr>\n      <th>109</th>\n      <td>2020-01-05</td>\n      <td>5</td>\n      <td>1</td>\n      <td>2020</td>\n      <td>0</td>\n      <td>0</td>\n      <td>Belgium</td>\n      <td>BE</td>\n      <td>BEL</td>\n      <td>11422068.0</td>\n      <td>Europe</td>\n    </tr>\n    <tr>\n      <th>110</th>\n      <td>2020-01-04</td>\n      <td>4</td>\n      <td>1</td>\n      <td>2020</td>\n      <td>0</td>\n      <td>0</td>\n      <td>Belgium</td>\n      <td>BE</td>\n      <td>BEL</td>\n      <td>11422068.0</td>\n      <td>Europe</td>\n    </tr>\n    <tr>\n      <th>111</th>\n      <td>2020-01-03</td>\n      <td>3</td>\n      <td>1</td>\n      <td>2020</td>\n      <td>0</td>\n      <td>0</td>\n      <td>Belgium</td>\n      <td>BE</td>\n      <td>BEL</td>\n      <td>11422068.0</td>\n      <td>Europe</td>\n    </tr>\n    <tr>\n      <th>112</th>\n      <td>2020-01-02</td>\n      <td>2</td>\n      <td>1</td>\n      <td>2020</td>\n      <td>0</td>\n      <td>0</td>\n      <td>Belgium</td>\n      <td>BE</td>\n      <td>BEL</td>\n      <td>11422068.0</td>\n      <td>Europe</td>\n    </tr>\n    <tr>\n      <th>113</th>\n      <td>2020-01-01</td>\n      <td>1</td>\n      <td>1</td>\n      <td>2020</td>\n      <td>0</td>\n      <td>0</td>\n      <td>Belgium</td>\n      <td>BE</td>\n      <td>BEL</td>\n      <td>11422068.0</td>\n      <td>Europe</td>\n    </tr>\n    <tr>\n      <th>114</th>\n      <td>2019-12-31</td>\n      <td>31</td>\n      <td>12</td>\n      <td>2019</td>\n      <td>0</td>\n      <td>0</td>\n      <td>Belgium</td>\n      <td>BE</td>\n      <td>BEL</td>\n      <td>11422068.0</td>\n      <td>Europe</td>\n    </tr>\n  </tbody>\n</table>\n<p>115 rows × 11 columns</p>\n</div>"
     },
     "metadata": {},
     "execution_count": 10
    }
   ],
   "source": [
    "mask = data[\"geoId\"] == \"BE\"\n",
    "data[mask]"
   ]
  },
  {
   "cell_type": "code",
   "execution_count": 11,
   "metadata": {},
   "outputs": [
    {
     "output_type": "execute_result",
     "data": {
      "text/plain": [
       "        dateRep  day  month  ...  countryterritoryCode  popData2018  continentExp\n",
       "0    2020-04-23   23      4  ...                   BEL   11422068.0        Europe\n",
       "1    2020-04-22   22      4  ...                   BEL   11422068.0        Europe\n",
       "2    2020-04-21   21      4  ...                   BEL   11422068.0        Europe\n",
       "3    2020-04-20   20      4  ...                   BEL   11422068.0        Europe\n",
       "4    2020-04-19   19      4  ...                   BEL   11422068.0        Europe\n",
       "5    2020-04-18   18      4  ...                   BEL   11422068.0        Europe\n",
       "6    2020-04-17   17      4  ...                   BEL   11422068.0        Europe\n",
       "7    2020-04-16   16      4  ...                   BEL   11422068.0        Europe\n",
       "8    2020-04-15   15      4  ...                   BEL   11422068.0        Europe\n",
       "9    2020-04-14   14      4  ...                   BEL   11422068.0        Europe\n",
       "10   2020-04-13   13      4  ...                   BEL   11422068.0        Europe\n",
       "11   2020-04-12   12      4  ...                   BEL   11422068.0        Europe\n",
       "12   2020-04-11   11      4  ...                   BEL   11422068.0        Europe\n",
       "13   2020-04-10   10      4  ...                   BEL   11422068.0        Europe\n",
       "14   2020-04-09    9      4  ...                   BEL   11422068.0        Europe\n",
       "15   2020-04-08    8      4  ...                   BEL   11422068.0        Europe\n",
       "16   2020-04-07    7      4  ...                   BEL   11422068.0        Europe\n",
       "17   2020-04-06    6      4  ...                   BEL   11422068.0        Europe\n",
       "18   2020-04-05    5      4  ...                   BEL   11422068.0        Europe\n",
       "19   2020-04-04    4      4  ...                   BEL   11422068.0        Europe\n",
       "20   2020-04-03    3      4  ...                   BEL   11422068.0        Europe\n",
       "21   2020-04-02    2      4  ...                   BEL   11422068.0        Europe\n",
       "22   2020-04-01    1      4  ...                   BEL   11422068.0        Europe\n",
       "23   2020-03-31   31      3  ...                   BEL   11422068.0        Europe\n",
       "24   2020-03-30   30      3  ...                   BEL   11422068.0        Europe\n",
       "25   2020-03-29   29      3  ...                   BEL   11422068.0        Europe\n",
       "26   2020-03-28   28      3  ...                   BEL   11422068.0        Europe\n",
       "27   2020-03-27   27      3  ...                   BEL   11422068.0        Europe\n",
       "28   2020-03-26   26      3  ...                   BEL   11422068.0        Europe\n",
       "29   2020-03-25   25      3  ...                   BEL   11422068.0        Europe\n",
       "..          ...  ...    ...  ...                   ...          ...           ...\n",
       "589  2020-04-09    9      4  ...                   USA  327167434.0       America\n",
       "590  2020-04-08    8      4  ...                   USA  327167434.0       America\n",
       "591  2020-04-07    7      4  ...                   USA  327167434.0       America\n",
       "592  2020-04-06    6      4  ...                   USA  327167434.0       America\n",
       "593  2020-04-05    5      4  ...                   USA  327167434.0       America\n",
       "594  2020-04-04    4      4  ...                   USA  327167434.0       America\n",
       "595  2020-04-03    3      4  ...                   USA  327167434.0       America\n",
       "596  2020-04-02    2      4  ...                   USA  327167434.0       America\n",
       "597  2020-04-01    1      4  ...                   USA  327167434.0       America\n",
       "598  2020-03-31   31      3  ...                   USA  327167434.0       America\n",
       "599  2020-03-30   30      3  ...                   USA  327167434.0       America\n",
       "600  2020-03-29   29      3  ...                   USA  327167434.0       America\n",
       "601  2020-03-28   28      3  ...                   USA  327167434.0       America\n",
       "602  2020-03-27   27      3  ...                   USA  327167434.0       America\n",
       "603  2020-03-26   26      3  ...                   USA  327167434.0       America\n",
       "604  2020-03-25   25      3  ...                   USA  327167434.0       America\n",
       "605  2020-03-24   24      3  ...                   USA  327167434.0       America\n",
       "606  2020-03-23   23      3  ...                   USA  327167434.0       America\n",
       "607  2020-03-22   22      3  ...                   USA  327167434.0       America\n",
       "608  2020-03-21   21      3  ...                   USA  327167434.0       America\n",
       "609  2020-03-20   20      3  ...                   USA  327167434.0       America\n",
       "610  2020-03-19   19      3  ...                   USA  327167434.0       America\n",
       "611  2020-03-18   18      3  ...                   USA  327167434.0       America\n",
       "612  2020-03-17   17      3  ...                   USA  327167434.0       America\n",
       "613  2020-03-16   16      3  ...                   USA  327167434.0       America\n",
       "614  2020-03-15   15      3  ...                   USA  327167434.0       America\n",
       "615  2020-03-14   14      3  ...                   USA  327167434.0       America\n",
       "616  2020-03-13   13      3  ...                   USA  327167434.0       America\n",
       "617  2020-03-12   12      3  ...                   USA  327167434.0       America\n",
       "618  2020-03-11   11      3  ...                   USA  327167434.0       America\n",
       "\n",
       "[266 rows x 11 columns]"
      ],
      "text/html": "<div>\n<style scoped>\n    .dataframe tbody tr th:only-of-type {\n        vertical-align: middle;\n    }\n\n    .dataframe tbody tr th {\n        vertical-align: top;\n    }\n\n    .dataframe thead th {\n        text-align: right;\n    }\n</style>\n<table border=\"1\" class=\"dataframe\">\n  <thead>\n    <tr style=\"text-align: right;\">\n      <th></th>\n      <th>dateRep</th>\n      <th>day</th>\n      <th>month</th>\n      <th>year</th>\n      <th>cases</th>\n      <th>deaths</th>\n      <th>countriesAndTerritories</th>\n      <th>geoId</th>\n      <th>countryterritoryCode</th>\n      <th>popData2018</th>\n      <th>continentExp</th>\n    </tr>\n  </thead>\n  <tbody>\n    <tr>\n      <th>0</th>\n      <td>2020-04-23</td>\n      <td>23</td>\n      <td>4</td>\n      <td>2020</td>\n      <td>933</td>\n      <td>264</td>\n      <td>Belgium</td>\n      <td>BE</td>\n      <td>BEL</td>\n      <td>11422068.0</td>\n      <td>Europe</td>\n    </tr>\n    <tr>\n      <th>1</th>\n      <td>2020-04-22</td>\n      <td>22</td>\n      <td>4</td>\n      <td>2020</td>\n      <td>973</td>\n      <td>170</td>\n      <td>Belgium</td>\n      <td>BE</td>\n      <td>BEL</td>\n      <td>11422068.0</td>\n      <td>Europe</td>\n    </tr>\n    <tr>\n      <th>2</th>\n      <td>2020-04-21</td>\n      <td>21</td>\n      <td>4</td>\n      <td>2020</td>\n      <td>1487</td>\n      <td>145</td>\n      <td>Belgium</td>\n      <td>BE</td>\n      <td>BEL</td>\n      <td>11422068.0</td>\n      <td>Europe</td>\n    </tr>\n    <tr>\n      <th>3</th>\n      <td>2020-04-20</td>\n      <td>20</td>\n      <td>4</td>\n      <td>2020</td>\n      <td>1313</td>\n      <td>230</td>\n      <td>Belgium</td>\n      <td>BE</td>\n      <td>BEL</td>\n      <td>11422068.0</td>\n      <td>Europe</td>\n    </tr>\n    <tr>\n      <th>4</th>\n      <td>2020-04-19</td>\n      <td>19</td>\n      <td>4</td>\n      <td>2020</td>\n      <td>1045</td>\n      <td>290</td>\n      <td>Belgium</td>\n      <td>BE</td>\n      <td>BEL</td>\n      <td>11422068.0</td>\n      <td>Europe</td>\n    </tr>\n    <tr>\n      <th>5</th>\n      <td>2020-04-18</td>\n      <td>18</td>\n      <td>4</td>\n      <td>2020</td>\n      <td>1329</td>\n      <td>306</td>\n      <td>Belgium</td>\n      <td>BE</td>\n      <td>BEL</td>\n      <td>11422068.0</td>\n      <td>Europe</td>\n    </tr>\n    <tr>\n      <th>6</th>\n      <td>2020-04-17</td>\n      <td>17</td>\n      <td>4</td>\n      <td>2020</td>\n      <td>1236</td>\n      <td>417</td>\n      <td>Belgium</td>\n      <td>BE</td>\n      <td>BEL</td>\n      <td>11422068.0</td>\n      <td>Europe</td>\n    </tr>\n    <tr>\n      <th>7</th>\n      <td>2020-04-16</td>\n      <td>16</td>\n      <td>4</td>\n      <td>2020</td>\n      <td>2454</td>\n      <td>283</td>\n      <td>Belgium</td>\n      <td>BE</td>\n      <td>BEL</td>\n      <td>11422068.0</td>\n      <td>Europe</td>\n    </tr>\n    <tr>\n      <th>8</th>\n      <td>2020-04-15</td>\n      <td>15</td>\n      <td>4</td>\n      <td>2020</td>\n      <td>530</td>\n      <td>254</td>\n      <td>Belgium</td>\n      <td>BE</td>\n      <td>BEL</td>\n      <td>11422068.0</td>\n      <td>Europe</td>\n    </tr>\n    <tr>\n      <th>9</th>\n      <td>2020-04-14</td>\n      <td>14</td>\n      <td>4</td>\n      <td>2020</td>\n      <td>942</td>\n      <td>303</td>\n      <td>Belgium</td>\n      <td>BE</td>\n      <td>BEL</td>\n      <td>11422068.0</td>\n      <td>Europe</td>\n    </tr>\n    <tr>\n      <th>10</th>\n      <td>2020-04-13</td>\n      <td>13</td>\n      <td>4</td>\n      <td>2020</td>\n      <td>1629</td>\n      <td>254</td>\n      <td>Belgium</td>\n      <td>BE</td>\n      <td>BEL</td>\n      <td>11422068.0</td>\n      <td>Europe</td>\n    </tr>\n    <tr>\n      <th>11</th>\n      <td>2020-04-12</td>\n      <td>12</td>\n      <td>4</td>\n      <td>2020</td>\n      <td>1351</td>\n      <td>327</td>\n      <td>Belgium</td>\n      <td>BE</td>\n      <td>BEL</td>\n      <td>11422068.0</td>\n      <td>Europe</td>\n    </tr>\n    <tr>\n      <th>12</th>\n      <td>2020-04-11</td>\n      <td>11</td>\n      <td>4</td>\n      <td>2020</td>\n      <td>1684</td>\n      <td>496</td>\n      <td>Belgium</td>\n      <td>BE</td>\n      <td>BEL</td>\n      <td>11422068.0</td>\n      <td>Europe</td>\n    </tr>\n    <tr>\n      <th>13</th>\n      <td>2020-04-10</td>\n      <td>10</td>\n      <td>4</td>\n      <td>2020</td>\n      <td>1580</td>\n      <td>283</td>\n      <td>Belgium</td>\n      <td>BE</td>\n      <td>BEL</td>\n      <td>11422068.0</td>\n      <td>Europe</td>\n    </tr>\n    <tr>\n      <th>14</th>\n      <td>2020-04-09</td>\n      <td>9</td>\n      <td>4</td>\n      <td>2020</td>\n      <td>1209</td>\n      <td>205</td>\n      <td>Belgium</td>\n      <td>BE</td>\n      <td>BEL</td>\n      <td>11422068.0</td>\n      <td>Europe</td>\n    </tr>\n    <tr>\n      <th>15</th>\n      <td>2020-04-08</td>\n      <td>8</td>\n      <td>4</td>\n      <td>2020</td>\n      <td>1380</td>\n      <td>403</td>\n      <td>Belgium</td>\n      <td>BE</td>\n      <td>BEL</td>\n      <td>11422068.0</td>\n      <td>Europe</td>\n    </tr>\n    <tr>\n      <th>16</th>\n      <td>2020-04-07</td>\n      <td>7</td>\n      <td>4</td>\n      <td>2020</td>\n      <td>1123</td>\n      <td>185</td>\n      <td>Belgium</td>\n      <td>BE</td>\n      <td>BEL</td>\n      <td>11422068.0</td>\n      <td>Europe</td>\n    </tr>\n    <tr>\n      <th>17</th>\n      <td>2020-04-06</td>\n      <td>6</td>\n      <td>4</td>\n      <td>2020</td>\n      <td>1260</td>\n      <td>164</td>\n      <td>Belgium</td>\n      <td>BE</td>\n      <td>BEL</td>\n      <td>11422068.0</td>\n      <td>Europe</td>\n    </tr>\n    <tr>\n      <th>18</th>\n      <td>2020-04-05</td>\n      <td>5</td>\n      <td>4</td>\n      <td>2020</td>\n      <td>1661</td>\n      <td>140</td>\n      <td>Belgium</td>\n      <td>BE</td>\n      <td>BEL</td>\n      <td>11422068.0</td>\n      <td>Europe</td>\n    </tr>\n    <tr>\n      <th>19</th>\n      <td>2020-04-04</td>\n      <td>4</td>\n      <td>4</td>\n      <td>2020</td>\n      <td>1422</td>\n      <td>132</td>\n      <td>Belgium</td>\n      <td>BE</td>\n      <td>BEL</td>\n      <td>11422068.0</td>\n      <td>Europe</td>\n    </tr>\n    <tr>\n      <th>20</th>\n      <td>2020-04-03</td>\n      <td>3</td>\n      <td>4</td>\n      <td>2020</td>\n      <td>1384</td>\n      <td>183</td>\n      <td>Belgium</td>\n      <td>BE</td>\n      <td>BEL</td>\n      <td>11422068.0</td>\n      <td>Europe</td>\n    </tr>\n    <tr>\n      <th>21</th>\n      <td>2020-04-02</td>\n      <td>2</td>\n      <td>4</td>\n      <td>2020</td>\n      <td>1189</td>\n      <td>123</td>\n      <td>Belgium</td>\n      <td>BE</td>\n      <td>BEL</td>\n      <td>11422068.0</td>\n      <td>Europe</td>\n    </tr>\n    <tr>\n      <th>22</th>\n      <td>2020-04-01</td>\n      <td>1</td>\n      <td>4</td>\n      <td>2020</td>\n      <td>876</td>\n      <td>192</td>\n      <td>Belgium</td>\n      <td>BE</td>\n      <td>BEL</td>\n      <td>11422068.0</td>\n      <td>Europe</td>\n    </tr>\n    <tr>\n      <th>23</th>\n      <td>2020-03-31</td>\n      <td>31</td>\n      <td>3</td>\n      <td>2020</td>\n      <td>1063</td>\n      <td>82</td>\n      <td>Belgium</td>\n      <td>BE</td>\n      <td>BEL</td>\n      <td>11422068.0</td>\n      <td>Europe</td>\n    </tr>\n    <tr>\n      <th>24</th>\n      <td>2020-03-30</td>\n      <td>30</td>\n      <td>3</td>\n      <td>2020</td>\n      <td>1702</td>\n      <td>78</td>\n      <td>Belgium</td>\n      <td>BE</td>\n      <td>BEL</td>\n      <td>11422068.0</td>\n      <td>Europe</td>\n    </tr>\n    <tr>\n      <th>25</th>\n      <td>2020-03-29</td>\n      <td>29</td>\n      <td>3</td>\n      <td>2020</td>\n      <td>1850</td>\n      <td>64</td>\n      <td>Belgium</td>\n      <td>BE</td>\n      <td>BEL</td>\n      <td>11422068.0</td>\n      <td>Europe</td>\n    </tr>\n    <tr>\n      <th>26</th>\n      <td>2020-03-28</td>\n      <td>28</td>\n      <td>3</td>\n      <td>2020</td>\n      <td>1049</td>\n      <td>69</td>\n      <td>Belgium</td>\n      <td>BE</td>\n      <td>BEL</td>\n      <td>11422068.0</td>\n      <td>Europe</td>\n    </tr>\n    <tr>\n      <th>27</th>\n      <td>2020-03-27</td>\n      <td>27</td>\n      <td>3</td>\n      <td>2020</td>\n      <td>1298</td>\n      <td>42</td>\n      <td>Belgium</td>\n      <td>BE</td>\n      <td>BEL</td>\n      <td>11422068.0</td>\n      <td>Europe</td>\n    </tr>\n    <tr>\n      <th>28</th>\n      <td>2020-03-26</td>\n      <td>26</td>\n      <td>3</td>\n      <td>2020</td>\n      <td>668</td>\n      <td>56</td>\n      <td>Belgium</td>\n      <td>BE</td>\n      <td>BEL</td>\n      <td>11422068.0</td>\n      <td>Europe</td>\n    </tr>\n    <tr>\n      <th>29</th>\n      <td>2020-03-25</td>\n      <td>25</td>\n      <td>3</td>\n      <td>2020</td>\n      <td>526</td>\n      <td>34</td>\n      <td>Belgium</td>\n      <td>BE</td>\n      <td>BEL</td>\n      <td>11422068.0</td>\n      <td>Europe</td>\n    </tr>\n    <tr>\n      <th>...</th>\n      <td>...</td>\n      <td>...</td>\n      <td>...</td>\n      <td>...</td>\n      <td>...</td>\n      <td>...</td>\n      <td>...</td>\n      <td>...</td>\n      <td>...</td>\n      <td>...</td>\n      <td>...</td>\n    </tr>\n    <tr>\n      <th>589</th>\n      <td>2020-04-09</td>\n      <td>9</td>\n      <td>4</td>\n      <td>2020</td>\n      <td>33323</td>\n      <td>1922</td>\n      <td>United_States_of_America</td>\n      <td>US</td>\n      <td>USA</td>\n      <td>327167434.0</td>\n      <td>America</td>\n    </tr>\n    <tr>\n      <th>590</th>\n      <td>2020-04-08</td>\n      <td>8</td>\n      <td>4</td>\n      <td>2020</td>\n      <td>30613</td>\n      <td>1906</td>\n      <td>United_States_of_America</td>\n      <td>US</td>\n      <td>USA</td>\n      <td>327167434.0</td>\n      <td>America</td>\n    </tr>\n    <tr>\n      <th>591</th>\n      <td>2020-04-07</td>\n      <td>7</td>\n      <td>4</td>\n      <td>2020</td>\n      <td>30561</td>\n      <td>1342</td>\n      <td>United_States_of_America</td>\n      <td>US</td>\n      <td>USA</td>\n      <td>327167434.0</td>\n      <td>America</td>\n    </tr>\n    <tr>\n      <th>592</th>\n      <td>2020-04-06</td>\n      <td>6</td>\n      <td>4</td>\n      <td>2020</td>\n      <td>25398</td>\n      <td>1146</td>\n      <td>United_States_of_America</td>\n      <td>US</td>\n      <td>USA</td>\n      <td>327167434.0</td>\n      <td>America</td>\n    </tr>\n    <tr>\n      <th>593</th>\n      <td>2020-04-05</td>\n      <td>5</td>\n      <td>4</td>\n      <td>2020</td>\n      <td>34272</td>\n      <td>1344</td>\n      <td>United_States_of_America</td>\n      <td>US</td>\n      <td>USA</td>\n      <td>327167434.0</td>\n      <td>America</td>\n    </tr>\n    <tr>\n      <th>594</th>\n      <td>2020-04-04</td>\n      <td>4</td>\n      <td>4</td>\n      <td>2020</td>\n      <td>32425</td>\n      <td>1104</td>\n      <td>United_States_of_America</td>\n      <td>US</td>\n      <td>USA</td>\n      <td>327167434.0</td>\n      <td>America</td>\n    </tr>\n    <tr>\n      <th>595</th>\n      <td>2020-04-03</td>\n      <td>3</td>\n      <td>4</td>\n      <td>2020</td>\n      <td>28819</td>\n      <td>915</td>\n      <td>United_States_of_America</td>\n      <td>US</td>\n      <td>USA</td>\n      <td>327167434.0</td>\n      <td>America</td>\n    </tr>\n    <tr>\n      <th>596</th>\n      <td>2020-04-02</td>\n      <td>2</td>\n      <td>4</td>\n      <td>2020</td>\n      <td>27103</td>\n      <td>1059</td>\n      <td>United_States_of_America</td>\n      <td>US</td>\n      <td>USA</td>\n      <td>327167434.0</td>\n      <td>America</td>\n    </tr>\n    <tr>\n      <th>597</th>\n      <td>2020-04-01</td>\n      <td>1</td>\n      <td>4</td>\n      <td>2020</td>\n      <td>24998</td>\n      <td>909</td>\n      <td>United_States_of_America</td>\n      <td>US</td>\n      <td>USA</td>\n      <td>327167434.0</td>\n      <td>America</td>\n    </tr>\n    <tr>\n      <th>598</th>\n      <td>2020-03-31</td>\n      <td>31</td>\n      <td>3</td>\n      <td>2020</td>\n      <td>21595</td>\n      <td>661</td>\n      <td>United_States_of_America</td>\n      <td>US</td>\n      <td>USA</td>\n      <td>327167434.0</td>\n      <td>America</td>\n    </tr>\n    <tr>\n      <th>599</th>\n      <td>2020-03-30</td>\n      <td>30</td>\n      <td>3</td>\n      <td>2020</td>\n      <td>18360</td>\n      <td>318</td>\n      <td>United_States_of_America</td>\n      <td>US</td>\n      <td>USA</td>\n      <td>327167434.0</td>\n      <td>America</td>\n    </tr>\n    <tr>\n      <th>600</th>\n      <td>2020-03-29</td>\n      <td>29</td>\n      <td>3</td>\n      <td>2020</td>\n      <td>19979</td>\n      <td>484</td>\n      <td>United_States_of_America</td>\n      <td>US</td>\n      <td>USA</td>\n      <td>327167434.0</td>\n      <td>America</td>\n    </tr>\n    <tr>\n      <th>601</th>\n      <td>2020-03-28</td>\n      <td>28</td>\n      <td>3</td>\n      <td>2020</td>\n      <td>18695</td>\n      <td>411</td>\n      <td>United_States_of_America</td>\n      <td>US</td>\n      <td>USA</td>\n      <td>327167434.0</td>\n      <td>America</td>\n    </tr>\n    <tr>\n      <th>602</th>\n      <td>2020-03-27</td>\n      <td>27</td>\n      <td>3</td>\n      <td>2020</td>\n      <td>16797</td>\n      <td>246</td>\n      <td>United_States_of_America</td>\n      <td>US</td>\n      <td>USA</td>\n      <td>327167434.0</td>\n      <td>America</td>\n    </tr>\n    <tr>\n      <th>603</th>\n      <td>2020-03-26</td>\n      <td>26</td>\n      <td>3</td>\n      <td>2020</td>\n      <td>13963</td>\n      <td>249</td>\n      <td>United_States_of_America</td>\n      <td>US</td>\n      <td>USA</td>\n      <td>327167434.0</td>\n      <td>America</td>\n    </tr>\n    <tr>\n      <th>604</th>\n      <td>2020-03-25</td>\n      <td>25</td>\n      <td>3</td>\n      <td>2020</td>\n      <td>8789</td>\n      <td>211</td>\n      <td>United_States_of_America</td>\n      <td>US</td>\n      <td>USA</td>\n      <td>327167434.0</td>\n      <td>America</td>\n    </tr>\n    <tr>\n      <th>605</th>\n      <td>2020-03-24</td>\n      <td>24</td>\n      <td>3</td>\n      <td>2020</td>\n      <td>11236</td>\n      <td>119</td>\n      <td>United_States_of_America</td>\n      <td>US</td>\n      <td>USA</td>\n      <td>327167434.0</td>\n      <td>America</td>\n    </tr>\n    <tr>\n      <th>606</th>\n      <td>2020-03-23</td>\n      <td>23</td>\n      <td>3</td>\n      <td>2020</td>\n      <td>8459</td>\n      <td>131</td>\n      <td>United_States_of_America</td>\n      <td>US</td>\n      <td>USA</td>\n      <td>327167434.0</td>\n      <td>America</td>\n    </tr>\n    <tr>\n      <th>607</th>\n      <td>2020-03-22</td>\n      <td>22</td>\n      <td>3</td>\n      <td>2020</td>\n      <td>7123</td>\n      <td>80</td>\n      <td>United_States_of_America</td>\n      <td>US</td>\n      <td>USA</td>\n      <td>327167434.0</td>\n      <td>America</td>\n    </tr>\n    <tr>\n      <th>608</th>\n      <td>2020-03-21</td>\n      <td>21</td>\n      <td>3</td>\n      <td>2020</td>\n      <td>5374</td>\n      <td>110</td>\n      <td>United_States_of_America</td>\n      <td>US</td>\n      <td>USA</td>\n      <td>327167434.0</td>\n      <td>America</td>\n    </tr>\n    <tr>\n      <th>609</th>\n      <td>2020-03-20</td>\n      <td>20</td>\n      <td>3</td>\n      <td>2020</td>\n      <td>4835</td>\n      <td>0</td>\n      <td>United_States_of_America</td>\n      <td>US</td>\n      <td>USA</td>\n      <td>327167434.0</td>\n      <td>America</td>\n    </tr>\n    <tr>\n      <th>610</th>\n      <td>2020-03-19</td>\n      <td>19</td>\n      <td>3</td>\n      <td>2020</td>\n      <td>2988</td>\n      <td>42</td>\n      <td>United_States_of_America</td>\n      <td>US</td>\n      <td>USA</td>\n      <td>327167434.0</td>\n      <td>America</td>\n    </tr>\n    <tr>\n      <th>611</th>\n      <td>2020-03-18</td>\n      <td>18</td>\n      <td>3</td>\n      <td>2020</td>\n      <td>1766</td>\n      <td>23</td>\n      <td>United_States_of_America</td>\n      <td>US</td>\n      <td>USA</td>\n      <td>327167434.0</td>\n      <td>America</td>\n    </tr>\n    <tr>\n      <th>612</th>\n      <td>2020-03-17</td>\n      <td>17</td>\n      <td>3</td>\n      <td>2020</td>\n      <td>887</td>\n      <td>16</td>\n      <td>United_States_of_America</td>\n      <td>US</td>\n      <td>USA</td>\n      <td>327167434.0</td>\n      <td>America</td>\n    </tr>\n    <tr>\n      <th>613</th>\n      <td>2020-03-16</td>\n      <td>16</td>\n      <td>3</td>\n      <td>2020</td>\n      <td>823</td>\n      <td>12</td>\n      <td>United_States_of_America</td>\n      <td>US</td>\n      <td>USA</td>\n      <td>327167434.0</td>\n      <td>America</td>\n    </tr>\n    <tr>\n      <th>614</th>\n      <td>2020-03-15</td>\n      <td>15</td>\n      <td>3</td>\n      <td>2020</td>\n      <td>777</td>\n      <td>10</td>\n      <td>United_States_of_America</td>\n      <td>US</td>\n      <td>USA</td>\n      <td>327167434.0</td>\n      <td>America</td>\n    </tr>\n    <tr>\n      <th>615</th>\n      <td>2020-03-14</td>\n      <td>14</td>\n      <td>3</td>\n      <td>2020</td>\n      <td>511</td>\n      <td>7</td>\n      <td>United_States_of_America</td>\n      <td>US</td>\n      <td>USA</td>\n      <td>327167434.0</td>\n      <td>America</td>\n    </tr>\n    <tr>\n      <th>616</th>\n      <td>2020-03-13</td>\n      <td>13</td>\n      <td>3</td>\n      <td>2020</td>\n      <td>351</td>\n      <td>10</td>\n      <td>United_States_of_America</td>\n      <td>US</td>\n      <td>USA</td>\n      <td>327167434.0</td>\n      <td>America</td>\n    </tr>\n    <tr>\n      <th>617</th>\n      <td>2020-03-12</td>\n      <td>12</td>\n      <td>3</td>\n      <td>2020</td>\n      <td>287</td>\n      <td>2</td>\n      <td>United_States_of_America</td>\n      <td>US</td>\n      <td>USA</td>\n      <td>327167434.0</td>\n      <td>America</td>\n    </tr>\n    <tr>\n      <th>618</th>\n      <td>2020-03-11</td>\n      <td>11</td>\n      <td>3</td>\n      <td>2020</td>\n      <td>271</td>\n      <td>2</td>\n      <td>United_States_of_America</td>\n      <td>US</td>\n      <td>USA</td>\n      <td>327167434.0</td>\n      <td>America</td>\n    </tr>\n  </tbody>\n</table>\n<p>266 rows × 11 columns</p>\n</div>"
     },
     "metadata": {},
     "execution_count": 11
    }
   ],
   "source": [
    "mask = data[\"cases\"] > 200\n",
    "data[mask]"
   ]
  },
  {
   "cell_type": "code",
   "execution_count": null,
   "metadata": {},
   "outputs": [],
   "source": []
  }
 ]
}
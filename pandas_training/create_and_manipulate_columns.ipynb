{
 "metadata": {
  "language_info": {
   "codemirror_mode": {
    "name": "ipython",
    "version": 3
   },
   "file_extension": ".py",
   "mimetype": "text/x-python",
   "name": "python",
   "nbconvert_exporter": "python",
   "pygments_lexer": "ipython3",
   "version": "3.7.3-final"
  },
  "orig_nbformat": 2,
  "kernelspec": {
   "name": "python3",
   "display_name": "Python 3"
  }
 },
 "nbformat": 4,
 "nbformat_minor": 2,
 "cells": [
  {
   "cell_type": "code",
   "execution_count": 1,
   "metadata": {},
   "outputs": [
    {
     "output_type": "stream",
     "name": "stdout",
     "text": [
      "/Users/evaafriana/Desktop/introduction_to_python_for_data_science/pandas_training\n"
     ]
    }
   ],
   "source": [
    "!pwd"
   ]
  },
  {
   "cell_type": "code",
   "execution_count": 6,
   "metadata": {},
   "outputs": [],
   "source": [
    "path_to_file = \"/Users/evaafriana/Desktop/introduction_to_python_for_data_science/pandas_training\""
   ]
  },
  {
   "cell_type": "code",
   "execution_count": 8,
   "metadata": {},
   "outputs": [
    {
     "output_type": "execute_result",
     "data": {
      "text/plain": [
       "      dateRep  day  month  year  cases  deaths countriesAndTerritories geoId  \\\n",
       "0  2020-04-23   23      4  2020    933     264                 Belgium    BE   \n",
       "1  2020-04-22   22      4  2020    973     170                 Belgium    BE   \n",
       "2  2020-04-21   21      4  2020   1487     145                 Belgium    BE   \n",
       "3  2020-04-20   20      4  2020   1313     230                 Belgium    BE   \n",
       "4  2020-04-19   19      4  2020   1045     290                 Belgium    BE   \n",
       "\n",
       "  countryterritoryCode  popData2018 continentExp  \n",
       "0                  BEL   11422068.0       Europe  \n",
       "1                  BEL   11422068.0       Europe  \n",
       "2                  BEL   11422068.0       Europe  \n",
       "3                  BEL   11422068.0       Europe  \n",
       "4                  BEL   11422068.0       Europe  "
      ],
      "text/html": "<div>\n<style scoped>\n    .dataframe tbody tr th:only-of-type {\n        vertical-align: middle;\n    }\n\n    .dataframe tbody tr th {\n        vertical-align: top;\n    }\n\n    .dataframe thead th {\n        text-align: right;\n    }\n</style>\n<table border=\"1\" class=\"dataframe\">\n  <thead>\n    <tr style=\"text-align: right;\">\n      <th></th>\n      <th>dateRep</th>\n      <th>day</th>\n      <th>month</th>\n      <th>year</th>\n      <th>cases</th>\n      <th>deaths</th>\n      <th>countriesAndTerritories</th>\n      <th>geoId</th>\n      <th>countryterritoryCode</th>\n      <th>popData2018</th>\n      <th>continentExp</th>\n    </tr>\n  </thead>\n  <tbody>\n    <tr>\n      <th>0</th>\n      <td>2020-04-23</td>\n      <td>23</td>\n      <td>4</td>\n      <td>2020</td>\n      <td>933</td>\n      <td>264</td>\n      <td>Belgium</td>\n      <td>BE</td>\n      <td>BEL</td>\n      <td>11422068.0</td>\n      <td>Europe</td>\n    </tr>\n    <tr>\n      <th>1</th>\n      <td>2020-04-22</td>\n      <td>22</td>\n      <td>4</td>\n      <td>2020</td>\n      <td>973</td>\n      <td>170</td>\n      <td>Belgium</td>\n      <td>BE</td>\n      <td>BEL</td>\n      <td>11422068.0</td>\n      <td>Europe</td>\n    </tr>\n    <tr>\n      <th>2</th>\n      <td>2020-04-21</td>\n      <td>21</td>\n      <td>4</td>\n      <td>2020</td>\n      <td>1487</td>\n      <td>145</td>\n      <td>Belgium</td>\n      <td>BE</td>\n      <td>BEL</td>\n      <td>11422068.0</td>\n      <td>Europe</td>\n    </tr>\n    <tr>\n      <th>3</th>\n      <td>2020-04-20</td>\n      <td>20</td>\n      <td>4</td>\n      <td>2020</td>\n      <td>1313</td>\n      <td>230</td>\n      <td>Belgium</td>\n      <td>BE</td>\n      <td>BEL</td>\n      <td>11422068.0</td>\n      <td>Europe</td>\n    </tr>\n    <tr>\n      <th>4</th>\n      <td>2020-04-19</td>\n      <td>19</td>\n      <td>4</td>\n      <td>2020</td>\n      <td>1045</td>\n      <td>290</td>\n      <td>Belgium</td>\n      <td>BE</td>\n      <td>BEL</td>\n      <td>11422068.0</td>\n      <td>Europe</td>\n    </tr>\n  </tbody>\n</table>\n</div>"
     },
     "metadata": {},
     "execution_count": 8
    }
   ],
   "source": [
    "import pandas as pd \n",
    "data = pd.read_csv(path_to_file + \"/covid-19.csv\")\n",
    "data = data.iloc[:, 1:]\n",
    "data.head()"
   ]
  },
  {
   "cell_type": "code",
   "execution_count": 10,
   "metadata": {},
   "outputs": [
    {
     "output_type": "execute_result",
     "data": {
      "text/plain": [
       "        dateRep  day  month  year  cases  deaths   countriesAndTerritories  \\\n",
       "575  2020-04-23   23      4  2020  17588    1721  United_States_of_America   \n",
       "576  2020-04-22   22      4  2020  37289    2524  United_States_of_America   \n",
       "577  2020-04-21   21      4  2020  28065    1857  United_States_of_America   \n",
       "578  2020-04-20   20      4  2020  24601    1772  United_States_of_America   \n",
       "579  2020-04-19   19      4  2020  32922    1856  United_States_of_America   \n",
       "\n",
       "    geoId countryterritoryCode  popData2018 continentExp  \n",
       "575    US                  USA  327167434.0      America  \n",
       "576    US                  USA  327167434.0      America  \n",
       "577    US                  USA  327167434.0      America  \n",
       "578    US                  USA  327167434.0      America  \n",
       "579    US                  USA  327167434.0      America  "
      ],
      "text/html": "<div>\n<style scoped>\n    .dataframe tbody tr th:only-of-type {\n        vertical-align: middle;\n    }\n\n    .dataframe tbody tr th {\n        vertical-align: top;\n    }\n\n    .dataframe thead th {\n        text-align: right;\n    }\n</style>\n<table border=\"1\" class=\"dataframe\">\n  <thead>\n    <tr style=\"text-align: right;\">\n      <th></th>\n      <th>dateRep</th>\n      <th>day</th>\n      <th>month</th>\n      <th>year</th>\n      <th>cases</th>\n      <th>deaths</th>\n      <th>countriesAndTerritories</th>\n      <th>geoId</th>\n      <th>countryterritoryCode</th>\n      <th>popData2018</th>\n      <th>continentExp</th>\n    </tr>\n  </thead>\n  <tbody>\n    <tr>\n      <th>575</th>\n      <td>2020-04-23</td>\n      <td>23</td>\n      <td>4</td>\n      <td>2020</td>\n      <td>17588</td>\n      <td>1721</td>\n      <td>United_States_of_America</td>\n      <td>US</td>\n      <td>USA</td>\n      <td>327167434.0</td>\n      <td>America</td>\n    </tr>\n    <tr>\n      <th>576</th>\n      <td>2020-04-22</td>\n      <td>22</td>\n      <td>4</td>\n      <td>2020</td>\n      <td>37289</td>\n      <td>2524</td>\n      <td>United_States_of_America</td>\n      <td>US</td>\n      <td>USA</td>\n      <td>327167434.0</td>\n      <td>America</td>\n    </tr>\n    <tr>\n      <th>577</th>\n      <td>2020-04-21</td>\n      <td>21</td>\n      <td>4</td>\n      <td>2020</td>\n      <td>28065</td>\n      <td>1857</td>\n      <td>United_States_of_America</td>\n      <td>US</td>\n      <td>USA</td>\n      <td>327167434.0</td>\n      <td>America</td>\n    </tr>\n    <tr>\n      <th>578</th>\n      <td>2020-04-20</td>\n      <td>20</td>\n      <td>4</td>\n      <td>2020</td>\n      <td>24601</td>\n      <td>1772</td>\n      <td>United_States_of_America</td>\n      <td>US</td>\n      <td>USA</td>\n      <td>327167434.0</td>\n      <td>America</td>\n    </tr>\n    <tr>\n      <th>579</th>\n      <td>2020-04-19</td>\n      <td>19</td>\n      <td>4</td>\n      <td>2020</td>\n      <td>32922</td>\n      <td>1856</td>\n      <td>United_States_of_America</td>\n      <td>US</td>\n      <td>USA</td>\n      <td>327167434.0</td>\n      <td>America</td>\n    </tr>\n  </tbody>\n</table>\n</div>"
     },
     "metadata": {},
     "execution_count": 10
    }
   ],
   "source": [
    "mask = data[\"geoId\"] == \"US\"\n",
    "us_data = data[mask]\n",
    "us_data.head()"
   ]
  },
  {
   "cell_type": "code",
   "execution_count": 11,
   "metadata": {},
   "outputs": [],
   "source": [
    "us_data = us_data.reset_index(drop=True)"
   ]
  },
  {
   "cell_type": "code",
   "execution_count": 12,
   "metadata": {},
   "outputs": [
    {
     "output_type": "execute_result",
     "data": {
      "text/plain": [
       "      dateRep  day  month  year  cases  deaths   countriesAndTerritories  \\\n",
       "0  2020-04-23   23      4  2020  17588    1721  United_States_of_America   \n",
       "1  2020-04-22   22      4  2020  37289    2524  United_States_of_America   \n",
       "2  2020-04-21   21      4  2020  28065    1857  United_States_of_America   \n",
       "3  2020-04-20   20      4  2020  24601    1772  United_States_of_America   \n",
       "4  2020-04-19   19      4  2020  32922    1856  United_States_of_America   \n",
       "\n",
       "  geoId countryterritoryCode  popData2018 continentExp  cumulated_cases  \n",
       "0    US                  USA  327167434.0      America                0  \n",
       "1    US                  USA  327167434.0      America                0  \n",
       "2    US                  USA  327167434.0      America                0  \n",
       "3    US                  USA  327167434.0      America                0  \n",
       "4    US                  USA  327167434.0      America                0  "
      ],
      "text/html": "<div>\n<style scoped>\n    .dataframe tbody tr th:only-of-type {\n        vertical-align: middle;\n    }\n\n    .dataframe tbody tr th {\n        vertical-align: top;\n    }\n\n    .dataframe thead th {\n        text-align: right;\n    }\n</style>\n<table border=\"1\" class=\"dataframe\">\n  <thead>\n    <tr style=\"text-align: right;\">\n      <th></th>\n      <th>dateRep</th>\n      <th>day</th>\n      <th>month</th>\n      <th>year</th>\n      <th>cases</th>\n      <th>deaths</th>\n      <th>countriesAndTerritories</th>\n      <th>geoId</th>\n      <th>countryterritoryCode</th>\n      <th>popData2018</th>\n      <th>continentExp</th>\n      <th>cumulated_cases</th>\n    </tr>\n  </thead>\n  <tbody>\n    <tr>\n      <th>0</th>\n      <td>2020-04-23</td>\n      <td>23</td>\n      <td>4</td>\n      <td>2020</td>\n      <td>17588</td>\n      <td>1721</td>\n      <td>United_States_of_America</td>\n      <td>US</td>\n      <td>USA</td>\n      <td>327167434.0</td>\n      <td>America</td>\n      <td>0</td>\n    </tr>\n    <tr>\n      <th>1</th>\n      <td>2020-04-22</td>\n      <td>22</td>\n      <td>4</td>\n      <td>2020</td>\n      <td>37289</td>\n      <td>2524</td>\n      <td>United_States_of_America</td>\n      <td>US</td>\n      <td>USA</td>\n      <td>327167434.0</td>\n      <td>America</td>\n      <td>0</td>\n    </tr>\n    <tr>\n      <th>2</th>\n      <td>2020-04-21</td>\n      <td>21</td>\n      <td>4</td>\n      <td>2020</td>\n      <td>28065</td>\n      <td>1857</td>\n      <td>United_States_of_America</td>\n      <td>US</td>\n      <td>USA</td>\n      <td>327167434.0</td>\n      <td>America</td>\n      <td>0</td>\n    </tr>\n    <tr>\n      <th>3</th>\n      <td>2020-04-20</td>\n      <td>20</td>\n      <td>4</td>\n      <td>2020</td>\n      <td>24601</td>\n      <td>1772</td>\n      <td>United_States_of_America</td>\n      <td>US</td>\n      <td>USA</td>\n      <td>327167434.0</td>\n      <td>America</td>\n      <td>0</td>\n    </tr>\n    <tr>\n      <th>4</th>\n      <td>2020-04-19</td>\n      <td>19</td>\n      <td>4</td>\n      <td>2020</td>\n      <td>32922</td>\n      <td>1856</td>\n      <td>United_States_of_America</td>\n      <td>US</td>\n      <td>USA</td>\n      <td>327167434.0</td>\n      <td>America</td>\n      <td>0</td>\n    </tr>\n  </tbody>\n</table>\n</div>"
     },
     "metadata": {},
     "execution_count": 12
    }
   ],
   "source": [
    "us_data[\"cumulated_cases\"] = 0\n",
    "us_data.head()"
   ]
  },
  {
   "cell_type": "code",
   "execution_count": 14,
   "metadata": {},
   "outputs": [
    {
     "output_type": "execute_result",
     "data": {
      "text/plain": [
       "[0, 1, 2, 3, 4, 5, 6, 7, 8, 9]"
      ]
     },
     "metadata": {},
     "execution_count": 14
    }
   ],
   "source": [
    "[i for i in range(10)]"
   ]
  },
  {
   "cell_type": "code",
   "execution_count": 15,
   "metadata": {},
   "outputs": [
    {
     "output_type": "execute_result",
     "data": {
      "text/plain": [
       "[0, 1, 2, 3, 4, 5, 6, 7, 8, 9]"
      ]
     },
     "metadata": {},
     "execution_count": 15
    }
   ],
   "source": [
    "[i for i in range(0, 10, 1)]"
   ]
  },
  {
   "cell_type": "code",
   "execution_count": 16,
   "metadata": {},
   "outputs": [
    {
     "output_type": "execute_result",
     "data": {
      "text/plain": [
       "[10, 9, 8, 7, 6, 5, 4, 3, 2, 1]"
      ]
     },
     "metadata": {},
     "execution_count": 16
    }
   ],
   "source": [
    "[i for i in range (10, 0, -1)]"
   ]
  },
  {
   "cell_type": "code",
   "execution_count": 17,
   "metadata": {},
   "outputs": [
    {
     "output_type": "execute_result",
     "data": {
      "text/plain": [
       "[9, 8, 7, 6, 5, 4, 3, 2, 1, 0]"
      ]
     },
     "metadata": {},
     "execution_count": 17
    }
   ],
   "source": [
    "[i for i in range (9, -1, -1)]"
   ]
  },
  {
   "cell_type": "code",
   "execution_count": 18,
   "metadata": {},
   "outputs": [
    {
     "output_type": "stream",
     "name": "stdout",
     "text": [
      "115\n"
     ]
    }
   ],
   "source": [
    "total_rows = len(us_data)\n",
    "print(total_rows)"
   ]
  },
  {
   "cell_type": "code",
   "execution_count": 19,
   "metadata": {},
   "outputs": [
    {
     "output_type": "execute_result",
     "data": {
      "text/plain": [
       "        dateRep  day  month  year  cases  deaths   countriesAndTerritories  \\\n",
       "110  2020-01-04    4      1  2020      0       0  United_States_of_America   \n",
       "111  2020-01-03    3      1  2020      0       0  United_States_of_America   \n",
       "112  2020-01-02    2      1  2020      0       0  United_States_of_America   \n",
       "113  2020-01-01    1      1  2020      0       0  United_States_of_America   \n",
       "114  2019-12-31   31     12  2019      0       0  United_States_of_America   \n",
       "\n",
       "    geoId countryterritoryCode  popData2018 continentExp  cumulated_cases  \n",
       "110    US                  USA  327167434.0      America                0  \n",
       "111    US                  USA  327167434.0      America                0  \n",
       "112    US                  USA  327167434.0      America                0  \n",
       "113    US                  USA  327167434.0      America                0  \n",
       "114    US                  USA  327167434.0      America                0  "
      ],
      "text/html": "<div>\n<style scoped>\n    .dataframe tbody tr th:only-of-type {\n        vertical-align: middle;\n    }\n\n    .dataframe tbody tr th {\n        vertical-align: top;\n    }\n\n    .dataframe thead th {\n        text-align: right;\n    }\n</style>\n<table border=\"1\" class=\"dataframe\">\n  <thead>\n    <tr style=\"text-align: right;\">\n      <th></th>\n      <th>dateRep</th>\n      <th>day</th>\n      <th>month</th>\n      <th>year</th>\n      <th>cases</th>\n      <th>deaths</th>\n      <th>countriesAndTerritories</th>\n      <th>geoId</th>\n      <th>countryterritoryCode</th>\n      <th>popData2018</th>\n      <th>continentExp</th>\n      <th>cumulated_cases</th>\n    </tr>\n  </thead>\n  <tbody>\n    <tr>\n      <th>110</th>\n      <td>2020-01-04</td>\n      <td>4</td>\n      <td>1</td>\n      <td>2020</td>\n      <td>0</td>\n      <td>0</td>\n      <td>United_States_of_America</td>\n      <td>US</td>\n      <td>USA</td>\n      <td>327167434.0</td>\n      <td>America</td>\n      <td>0</td>\n    </tr>\n    <tr>\n      <th>111</th>\n      <td>2020-01-03</td>\n      <td>3</td>\n      <td>1</td>\n      <td>2020</td>\n      <td>0</td>\n      <td>0</td>\n      <td>United_States_of_America</td>\n      <td>US</td>\n      <td>USA</td>\n      <td>327167434.0</td>\n      <td>America</td>\n      <td>0</td>\n    </tr>\n    <tr>\n      <th>112</th>\n      <td>2020-01-02</td>\n      <td>2</td>\n      <td>1</td>\n      <td>2020</td>\n      <td>0</td>\n      <td>0</td>\n      <td>United_States_of_America</td>\n      <td>US</td>\n      <td>USA</td>\n      <td>327167434.0</td>\n      <td>America</td>\n      <td>0</td>\n    </tr>\n    <tr>\n      <th>113</th>\n      <td>2020-01-01</td>\n      <td>1</td>\n      <td>1</td>\n      <td>2020</td>\n      <td>0</td>\n      <td>0</td>\n      <td>United_States_of_America</td>\n      <td>US</td>\n      <td>USA</td>\n      <td>327167434.0</td>\n      <td>America</td>\n      <td>0</td>\n    </tr>\n    <tr>\n      <th>114</th>\n      <td>2019-12-31</td>\n      <td>31</td>\n      <td>12</td>\n      <td>2019</td>\n      <td>0</td>\n      <td>0</td>\n      <td>United_States_of_America</td>\n      <td>US</td>\n      <td>USA</td>\n      <td>327167434.0</td>\n      <td>America</td>\n      <td>0</td>\n    </tr>\n  </tbody>\n</table>\n</div>"
     },
     "metadata": {},
     "execution_count": 19
    }
   ],
   "source": [
    "us_data.tail()"
   ]
  },
  {
   "cell_type": "code",
   "execution_count": 23,
   "metadata": {},
   "outputs": [],
   "source": [
    "for i in range(total_rows -2, -1, -1):\n",
    "    us_data.loc[i, \"cumulated_cases\"] = us_data.loc[i, \"cases\"] + us_data.loc[i + 1, \"cumulated_cases\"]"
   ]
  },
  {
   "cell_type": "code",
   "execution_count": 24,
   "metadata": {},
   "outputs": [
    {
     "output_type": "execute_result",
     "data": {
      "text/plain": [
       "      dateRep  day  month  year  cases  deaths   countriesAndTerritories  \\\n",
       "0  2020-04-23   23      4  2020  17588    1721  United_States_of_America   \n",
       "1  2020-04-22   22      4  2020  37289    2524  United_States_of_America   \n",
       "2  2020-04-21   21      4  2020  28065    1857  United_States_of_America   \n",
       "3  2020-04-20   20      4  2020  24601    1772  United_States_of_America   \n",
       "4  2020-04-19   19      4  2020  32922    1856  United_States_of_America   \n",
       "\n",
       "  geoId countryterritoryCode  popData2018 continentExp  cumulated_cases  \n",
       "0    US                  USA  327167434.0      America           842629  \n",
       "1    US                  USA  327167434.0      America           825041  \n",
       "2    US                  USA  327167434.0      America           787752  \n",
       "3    US                  USA  327167434.0      America           759687  \n",
       "4    US                  USA  327167434.0      America           735086  "
      ],
      "text/html": "<div>\n<style scoped>\n    .dataframe tbody tr th:only-of-type {\n        vertical-align: middle;\n    }\n\n    .dataframe tbody tr th {\n        vertical-align: top;\n    }\n\n    .dataframe thead th {\n        text-align: right;\n    }\n</style>\n<table border=\"1\" class=\"dataframe\">\n  <thead>\n    <tr style=\"text-align: right;\">\n      <th></th>\n      <th>dateRep</th>\n      <th>day</th>\n      <th>month</th>\n      <th>year</th>\n      <th>cases</th>\n      <th>deaths</th>\n      <th>countriesAndTerritories</th>\n      <th>geoId</th>\n      <th>countryterritoryCode</th>\n      <th>popData2018</th>\n      <th>continentExp</th>\n      <th>cumulated_cases</th>\n    </tr>\n  </thead>\n  <tbody>\n    <tr>\n      <th>0</th>\n      <td>2020-04-23</td>\n      <td>23</td>\n      <td>4</td>\n      <td>2020</td>\n      <td>17588</td>\n      <td>1721</td>\n      <td>United_States_of_America</td>\n      <td>US</td>\n      <td>USA</td>\n      <td>327167434.0</td>\n      <td>America</td>\n      <td>842629</td>\n    </tr>\n    <tr>\n      <th>1</th>\n      <td>2020-04-22</td>\n      <td>22</td>\n      <td>4</td>\n      <td>2020</td>\n      <td>37289</td>\n      <td>2524</td>\n      <td>United_States_of_America</td>\n      <td>US</td>\n      <td>USA</td>\n      <td>327167434.0</td>\n      <td>America</td>\n      <td>825041</td>\n    </tr>\n    <tr>\n      <th>2</th>\n      <td>2020-04-21</td>\n      <td>21</td>\n      <td>4</td>\n      <td>2020</td>\n      <td>28065</td>\n      <td>1857</td>\n      <td>United_States_of_America</td>\n      <td>US</td>\n      <td>USA</td>\n      <td>327167434.0</td>\n      <td>America</td>\n      <td>787752</td>\n    </tr>\n    <tr>\n      <th>3</th>\n      <td>2020-04-20</td>\n      <td>20</td>\n      <td>4</td>\n      <td>2020</td>\n      <td>24601</td>\n      <td>1772</td>\n      <td>United_States_of_America</td>\n      <td>US</td>\n      <td>USA</td>\n      <td>327167434.0</td>\n      <td>America</td>\n      <td>759687</td>\n    </tr>\n    <tr>\n      <th>4</th>\n      <td>2020-04-19</td>\n      <td>19</td>\n      <td>4</td>\n      <td>2020</td>\n      <td>32922</td>\n      <td>1856</td>\n      <td>United_States_of_America</td>\n      <td>US</td>\n      <td>USA</td>\n      <td>327167434.0</td>\n      <td>America</td>\n      <td>735086</td>\n    </tr>\n  </tbody>\n</table>\n</div>"
     },
     "metadata": {},
     "execution_count": 24
    }
   ],
   "source": [
    "us_data.head()"
   ]
  },
  {
   "cell_type": "code",
   "execution_count": 25,
   "metadata": {},
   "outputs": [],
   "source": [
    "us_data[\"new_cases\"] = 0\n",
    "for i in range(total_rows -2, -1, -1):\n",
    "    us_data.loc[i, \"new_cases\"] = us_data.loc[i, \"cumulated_cases\"] - us_data.loc[i +1, \"cumulated_cases\"]\n"
   ]
  },
  {
   "cell_type": "code",
   "execution_count": 26,
   "metadata": {},
   "outputs": [
    {
     "output_type": "execute_result",
     "data": {
      "text/plain": [
       "      dateRep  day  month  year  cases  deaths   countriesAndTerritories  \\\n",
       "0  2020-04-23   23      4  2020  17588    1721  United_States_of_America   \n",
       "1  2020-04-22   22      4  2020  37289    2524  United_States_of_America   \n",
       "2  2020-04-21   21      4  2020  28065    1857  United_States_of_America   \n",
       "3  2020-04-20   20      4  2020  24601    1772  United_States_of_America   \n",
       "4  2020-04-19   19      4  2020  32922    1856  United_States_of_America   \n",
       "\n",
       "  geoId countryterritoryCode  popData2018 continentExp  cumulated_cases  \\\n",
       "0    US                  USA  327167434.0      America           842629   \n",
       "1    US                  USA  327167434.0      America           825041   \n",
       "2    US                  USA  327167434.0      America           787752   \n",
       "3    US                  USA  327167434.0      America           759687   \n",
       "4    US                  USA  327167434.0      America           735086   \n",
       "\n",
       "   new_cases  \n",
       "0      17588  \n",
       "1      37289  \n",
       "2      28065  \n",
       "3      24601  \n",
       "4      32922  "
      ],
      "text/html": "<div>\n<style scoped>\n    .dataframe tbody tr th:only-of-type {\n        vertical-align: middle;\n    }\n\n    .dataframe tbody tr th {\n        vertical-align: top;\n    }\n\n    .dataframe thead th {\n        text-align: right;\n    }\n</style>\n<table border=\"1\" class=\"dataframe\">\n  <thead>\n    <tr style=\"text-align: right;\">\n      <th></th>\n      <th>dateRep</th>\n      <th>day</th>\n      <th>month</th>\n      <th>year</th>\n      <th>cases</th>\n      <th>deaths</th>\n      <th>countriesAndTerritories</th>\n      <th>geoId</th>\n      <th>countryterritoryCode</th>\n      <th>popData2018</th>\n      <th>continentExp</th>\n      <th>cumulated_cases</th>\n      <th>new_cases</th>\n    </tr>\n  </thead>\n  <tbody>\n    <tr>\n      <th>0</th>\n      <td>2020-04-23</td>\n      <td>23</td>\n      <td>4</td>\n      <td>2020</td>\n      <td>17588</td>\n      <td>1721</td>\n      <td>United_States_of_America</td>\n      <td>US</td>\n      <td>USA</td>\n      <td>327167434.0</td>\n      <td>America</td>\n      <td>842629</td>\n      <td>17588</td>\n    </tr>\n    <tr>\n      <th>1</th>\n      <td>2020-04-22</td>\n      <td>22</td>\n      <td>4</td>\n      <td>2020</td>\n      <td>37289</td>\n      <td>2524</td>\n      <td>United_States_of_America</td>\n      <td>US</td>\n      <td>USA</td>\n      <td>327167434.0</td>\n      <td>America</td>\n      <td>825041</td>\n      <td>37289</td>\n    </tr>\n    <tr>\n      <th>2</th>\n      <td>2020-04-21</td>\n      <td>21</td>\n      <td>4</td>\n      <td>2020</td>\n      <td>28065</td>\n      <td>1857</td>\n      <td>United_States_of_America</td>\n      <td>US</td>\n      <td>USA</td>\n      <td>327167434.0</td>\n      <td>America</td>\n      <td>787752</td>\n      <td>28065</td>\n    </tr>\n    <tr>\n      <th>3</th>\n      <td>2020-04-20</td>\n      <td>20</td>\n      <td>4</td>\n      <td>2020</td>\n      <td>24601</td>\n      <td>1772</td>\n      <td>United_States_of_America</td>\n      <td>US</td>\n      <td>USA</td>\n      <td>327167434.0</td>\n      <td>America</td>\n      <td>759687</td>\n      <td>24601</td>\n    </tr>\n    <tr>\n      <th>4</th>\n      <td>2020-04-19</td>\n      <td>19</td>\n      <td>4</td>\n      <td>2020</td>\n      <td>32922</td>\n      <td>1856</td>\n      <td>United_States_of_America</td>\n      <td>US</td>\n      <td>USA</td>\n      <td>327167434.0</td>\n      <td>America</td>\n      <td>735086</td>\n      <td>32922</td>\n    </tr>\n  </tbody>\n</table>\n</div>"
     },
     "metadata": {},
     "execution_count": 26
    }
   ],
   "source": [
    "us_data.head()"
   ]
  },
  {
   "cell_type": "code",
   "execution_count": 28,
   "metadata": {},
   "outputs": [
    {
     "output_type": "execute_result",
     "data": {
      "text/plain": [
       "      dateRep  day  month  year  cases  deaths   countriesAndTerritories  \\\n",
       "0  2020-04-23   23      4  2020  17588    1721  United_States_of_America   \n",
       "1  2020-04-22   22      4  2020  37289    2524  United_States_of_America   \n",
       "2  2020-04-21   21      4  2020  28065    1857  United_States_of_America   \n",
       "3  2020-04-20   20      4  2020  24601    1772  United_States_of_America   \n",
       "4  2020-04-19   19      4  2020  32922    1856  United_States_of_America   \n",
       "\n",
       "  geoId countryterritoryCode  popData2018 continentExp  cumulated_cases  \\\n",
       "0    US                  USA  327167434.0      America           842629   \n",
       "1    US                  USA  327167434.0      America           825041   \n",
       "2    US                  USA  327167434.0      America           787752   \n",
       "3    US                  USA  327167434.0      America           759687   \n",
       "4    US                  USA  327167434.0      America           735086   \n",
       "\n",
       "   new_cases  growth_ratio  \n",
       "0      17588         54877  \n",
       "1      37289         65354  \n",
       "2      28065         52666  \n",
       "3      24601         57523  \n",
       "4      32922         63755  "
      ],
      "text/html": "<div>\n<style scoped>\n    .dataframe tbody tr th:only-of-type {\n        vertical-align: middle;\n    }\n\n    .dataframe tbody tr th {\n        vertical-align: top;\n    }\n\n    .dataframe thead th {\n        text-align: right;\n    }\n</style>\n<table border=\"1\" class=\"dataframe\">\n  <thead>\n    <tr style=\"text-align: right;\">\n      <th></th>\n      <th>dateRep</th>\n      <th>day</th>\n      <th>month</th>\n      <th>year</th>\n      <th>cases</th>\n      <th>deaths</th>\n      <th>countriesAndTerritories</th>\n      <th>geoId</th>\n      <th>countryterritoryCode</th>\n      <th>popData2018</th>\n      <th>continentExp</th>\n      <th>cumulated_cases</th>\n      <th>new_cases</th>\n      <th>growth_ratio</th>\n    </tr>\n  </thead>\n  <tbody>\n    <tr>\n      <th>0</th>\n      <td>2020-04-23</td>\n      <td>23</td>\n      <td>4</td>\n      <td>2020</td>\n      <td>17588</td>\n      <td>1721</td>\n      <td>United_States_of_America</td>\n      <td>US</td>\n      <td>USA</td>\n      <td>327167434.0</td>\n      <td>America</td>\n      <td>842629</td>\n      <td>17588</td>\n      <td>54877</td>\n    </tr>\n    <tr>\n      <th>1</th>\n      <td>2020-04-22</td>\n      <td>22</td>\n      <td>4</td>\n      <td>2020</td>\n      <td>37289</td>\n      <td>2524</td>\n      <td>United_States_of_America</td>\n      <td>US</td>\n      <td>USA</td>\n      <td>327167434.0</td>\n      <td>America</td>\n      <td>825041</td>\n      <td>37289</td>\n      <td>65354</td>\n    </tr>\n    <tr>\n      <th>2</th>\n      <td>2020-04-21</td>\n      <td>21</td>\n      <td>4</td>\n      <td>2020</td>\n      <td>28065</td>\n      <td>1857</td>\n      <td>United_States_of_America</td>\n      <td>US</td>\n      <td>USA</td>\n      <td>327167434.0</td>\n      <td>America</td>\n      <td>787752</td>\n      <td>28065</td>\n      <td>52666</td>\n    </tr>\n    <tr>\n      <th>3</th>\n      <td>2020-04-20</td>\n      <td>20</td>\n      <td>4</td>\n      <td>2020</td>\n      <td>24601</td>\n      <td>1772</td>\n      <td>United_States_of_America</td>\n      <td>US</td>\n      <td>USA</td>\n      <td>327167434.0</td>\n      <td>America</td>\n      <td>759687</td>\n      <td>24601</td>\n      <td>57523</td>\n    </tr>\n    <tr>\n      <th>4</th>\n      <td>2020-04-19</td>\n      <td>19</td>\n      <td>4</td>\n      <td>2020</td>\n      <td>32922</td>\n      <td>1856</td>\n      <td>United_States_of_America</td>\n      <td>US</td>\n      <td>USA</td>\n      <td>327167434.0</td>\n      <td>America</td>\n      <td>735086</td>\n      <td>32922</td>\n      <td>63755</td>\n    </tr>\n  </tbody>\n</table>\n</div>"
     },
     "metadata": {},
     "execution_count": 28
    }
   ],
   "source": [
    "us_data[\"growth_ratio\"] = 0\n",
    "for i in range(total_rows -2, -1, -1):\n",
    "    us_data.loc[i, \"growth_ratio\"] = us_data.loc[i, \"new_cases\"] + us_data.loc[i +1, \"new_cases\"]\n",
    "\n",
    "us_data.head()"
   ]
  },
  {
   "cell_type": "code",
   "execution_count": null,
   "metadata": {},
   "outputs": [],
   "source": []
  }
 ]
}
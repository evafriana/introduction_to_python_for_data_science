{
 "metadata": {
  "language_info": {
   "codemirror_mode": {
    "name": "ipython",
    "version": 3
   },
   "file_extension": ".py",
   "mimetype": "text/x-python",
   "name": "python",
   "nbconvert_exporter": "python",
   "pygments_lexer": "ipython3",
   "version": "3.7.3-final"
  },
  "orig_nbformat": 2,
  "kernelspec": {
   "name": "python3",
   "display_name": "Python 3"
  }
 },
 "nbformat": 4,
 "nbformat_minor": 2,
 "cells": [
  {
   "cell_type": "code",
   "execution_count": 1,
   "metadata": {},
   "outputs": [
    {
     "output_type": "stream",
     "name": "stdout",
     "text": [
      "/Users/evaafriana/Desktop/introduction_to_python_for_data_science/pandas_training\n"
     ]
    }
   ],
   "source": [
    "!pwd"
   ]
  },
  {
   "cell_type": "code",
   "execution_count": 2,
   "metadata": {},
   "outputs": [],
   "source": [
    "path_to_file = \"/Users/evaafriana/Desktop/introduction_to_python_for_data_science/pandas_training\""
   ]
  },
  {
   "cell_type": "code",
   "execution_count": 3,
   "metadata": {},
   "outputs": [
    {
     "output_type": "execute_result",
     "data": {
      "text/plain": [
       "   Unnamed: 0     dateRep  day  ...  countryterritoryCode  popData2018  continentExp\n",
       "0        1257  2020-04-23   23  ...                   BEL   11422068.0        Europe\n",
       "1        1258  2020-04-22   22  ...                   BEL   11422068.0        Europe\n",
       "2        1259  2020-04-21   21  ...                   BEL   11422068.0        Europe\n",
       "3        1260  2020-04-20   20  ...                   BEL   11422068.0        Europe\n",
       "4        1261  2020-04-19   19  ...                   BEL   11422068.0        Europe\n",
       "\n",
       "[5 rows x 12 columns]"
      ],
      "text/html": "<div>\n<style scoped>\n    .dataframe tbody tr th:only-of-type {\n        vertical-align: middle;\n    }\n\n    .dataframe tbody tr th {\n        vertical-align: top;\n    }\n\n    .dataframe thead th {\n        text-align: right;\n    }\n</style>\n<table border=\"1\" class=\"dataframe\">\n  <thead>\n    <tr style=\"text-align: right;\">\n      <th></th>\n      <th>Unnamed: 0</th>\n      <th>dateRep</th>\n      <th>day</th>\n      <th>month</th>\n      <th>year</th>\n      <th>cases</th>\n      <th>deaths</th>\n      <th>countriesAndTerritories</th>\n      <th>geoId</th>\n      <th>countryterritoryCode</th>\n      <th>popData2018</th>\n      <th>continentExp</th>\n    </tr>\n  </thead>\n  <tbody>\n    <tr>\n      <th>0</th>\n      <td>1257</td>\n      <td>2020-04-23</td>\n      <td>23</td>\n      <td>4</td>\n      <td>2020</td>\n      <td>933</td>\n      <td>264</td>\n      <td>Belgium</td>\n      <td>BE</td>\n      <td>BEL</td>\n      <td>11422068.0</td>\n      <td>Europe</td>\n    </tr>\n    <tr>\n      <th>1</th>\n      <td>1258</td>\n      <td>2020-04-22</td>\n      <td>22</td>\n      <td>4</td>\n      <td>2020</td>\n      <td>973</td>\n      <td>170</td>\n      <td>Belgium</td>\n      <td>BE</td>\n      <td>BEL</td>\n      <td>11422068.0</td>\n      <td>Europe</td>\n    </tr>\n    <tr>\n      <th>2</th>\n      <td>1259</td>\n      <td>2020-04-21</td>\n      <td>21</td>\n      <td>4</td>\n      <td>2020</td>\n      <td>1487</td>\n      <td>145</td>\n      <td>Belgium</td>\n      <td>BE</td>\n      <td>BEL</td>\n      <td>11422068.0</td>\n      <td>Europe</td>\n    </tr>\n    <tr>\n      <th>3</th>\n      <td>1260</td>\n      <td>2020-04-20</td>\n      <td>20</td>\n      <td>4</td>\n      <td>2020</td>\n      <td>1313</td>\n      <td>230</td>\n      <td>Belgium</td>\n      <td>BE</td>\n      <td>BEL</td>\n      <td>11422068.0</td>\n      <td>Europe</td>\n    </tr>\n    <tr>\n      <th>4</th>\n      <td>1261</td>\n      <td>2020-04-19</td>\n      <td>19</td>\n      <td>4</td>\n      <td>2020</td>\n      <td>1045</td>\n      <td>290</td>\n      <td>Belgium</td>\n      <td>BE</td>\n      <td>BEL</td>\n      <td>11422068.0</td>\n      <td>Europe</td>\n    </tr>\n  </tbody>\n</table>\n</div>"
     },
     "metadata": {},
     "execution_count": 3
    }
   ],
   "source": [
    "import pandas as pd \n",
    "data = pd.read_csv(path_to_file + \"/covid-19.csv\")\n",
    "data.head()"
   ]
  },
  {
   "cell_type": "code",
   "execution_count": 4,
   "metadata": {},
   "outputs": [
    {
     "output_type": "execute_result",
     "data": {
      "text/plain": [
       "      dateRep  day  month  ...  countryterritoryCode  popData2018  continentExp\n",
       "0  2020-04-23   23      4  ...                   BEL   11422068.0        Europe\n",
       "1  2020-04-22   22      4  ...                   BEL   11422068.0        Europe\n",
       "2  2020-04-21   21      4  ...                   BEL   11422068.0        Europe\n",
       "3  2020-04-20   20      4  ...                   BEL   11422068.0        Europe\n",
       "4  2020-04-19   19      4  ...                   BEL   11422068.0        Europe\n",
       "\n",
       "[5 rows x 11 columns]"
      ],
      "text/html": "<div>\n<style scoped>\n    .dataframe tbody tr th:only-of-type {\n        vertical-align: middle;\n    }\n\n    .dataframe tbody tr th {\n        vertical-align: top;\n    }\n\n    .dataframe thead th {\n        text-align: right;\n    }\n</style>\n<table border=\"1\" class=\"dataframe\">\n  <thead>\n    <tr style=\"text-align: right;\">\n      <th></th>\n      <th>dateRep</th>\n      <th>day</th>\n      <th>month</th>\n      <th>year</th>\n      <th>cases</th>\n      <th>deaths</th>\n      <th>countriesAndTerritories</th>\n      <th>geoId</th>\n      <th>countryterritoryCode</th>\n      <th>popData2018</th>\n      <th>continentExp</th>\n    </tr>\n  </thead>\n  <tbody>\n    <tr>\n      <th>0</th>\n      <td>2020-04-23</td>\n      <td>23</td>\n      <td>4</td>\n      <td>2020</td>\n      <td>933</td>\n      <td>264</td>\n      <td>Belgium</td>\n      <td>BE</td>\n      <td>BEL</td>\n      <td>11422068.0</td>\n      <td>Europe</td>\n    </tr>\n    <tr>\n      <th>1</th>\n      <td>2020-04-22</td>\n      <td>22</td>\n      <td>4</td>\n      <td>2020</td>\n      <td>973</td>\n      <td>170</td>\n      <td>Belgium</td>\n      <td>BE</td>\n      <td>BEL</td>\n      <td>11422068.0</td>\n      <td>Europe</td>\n    </tr>\n    <tr>\n      <th>2</th>\n      <td>2020-04-21</td>\n      <td>21</td>\n      <td>4</td>\n      <td>2020</td>\n      <td>1487</td>\n      <td>145</td>\n      <td>Belgium</td>\n      <td>BE</td>\n      <td>BEL</td>\n      <td>11422068.0</td>\n      <td>Europe</td>\n    </tr>\n    <tr>\n      <th>3</th>\n      <td>2020-04-20</td>\n      <td>20</td>\n      <td>4</td>\n      <td>2020</td>\n      <td>1313</td>\n      <td>230</td>\n      <td>Belgium</td>\n      <td>BE</td>\n      <td>BEL</td>\n      <td>11422068.0</td>\n      <td>Europe</td>\n    </tr>\n    <tr>\n      <th>4</th>\n      <td>2020-04-19</td>\n      <td>19</td>\n      <td>4</td>\n      <td>2020</td>\n      <td>1045</td>\n      <td>290</td>\n      <td>Belgium</td>\n      <td>BE</td>\n      <td>BEL</td>\n      <td>11422068.0</td>\n      <td>Europe</td>\n    </tr>\n  </tbody>\n</table>\n</div>"
     },
     "metadata": {},
     "execution_count": 4
    }
   ],
   "source": [
    "data = data.iloc[:, 1:]\n",
    "data.head()"
   ]
  },
  {
   "cell_type": "code",
   "execution_count": 5,
   "metadata": {},
   "outputs": [
    {
     "output_type": "execute_result",
     "data": {
      "text/plain": [
       "0      2020\n",
       "1      2020\n",
       "2      2020\n",
       "3      2020\n",
       "4      2020\n",
       "5      2020\n",
       "6      2020\n",
       "7      2020\n",
       "8      2020\n",
       "9      2020\n",
       "10     2020\n",
       "11     2020\n",
       "12     2020\n",
       "13     2020\n",
       "14     2020\n",
       "15     2020\n",
       "16     2020\n",
       "17     2020\n",
       "18     2020\n",
       "19     2020\n",
       "20     2020\n",
       "21     2020\n",
       "22     2020\n",
       "23     2020\n",
       "24     2020\n",
       "25     2020\n",
       "26     2020\n",
       "27     2020\n",
       "28     2020\n",
       "29     2020\n",
       "       ... \n",
       "660    2020\n",
       "661    2020\n",
       "662    2020\n",
       "663    2020\n",
       "664    2020\n",
       "665    2020\n",
       "666    2020\n",
       "667    2020\n",
       "668    2020\n",
       "669    2020\n",
       "670    2020\n",
       "671    2020\n",
       "672    2020\n",
       "673    2020\n",
       "674    2020\n",
       "675    2020\n",
       "676    2020\n",
       "677    2020\n",
       "678    2020\n",
       "679    2020\n",
       "680    2020\n",
       "681    2020\n",
       "682    2020\n",
       "683    2020\n",
       "684    2020\n",
       "685    2020\n",
       "686    2020\n",
       "687    2020\n",
       "688    2020\n",
       "689    2019\n",
       "Name: year, Length: 690, dtype: int64"
      ]
     },
     "metadata": {},
     "execution_count": 5
    }
   ],
   "source": [
    "data.loc[:, \"year\"]"
   ]
  },
  {
   "cell_type": "code",
   "execution_count": 6,
   "metadata": {},
   "outputs": [
    {
     "output_type": "execute_result",
     "data": {
      "text/plain": [
       "     year  cases  deaths   countriesAndTerritories\n",
       "0    2020    933     264                   Belgium\n",
       "1    2020    973     170                   Belgium\n",
       "2    2020   1487     145                   Belgium\n",
       "3    2020   1313     230                   Belgium\n",
       "4    2020   1045     290                   Belgium\n",
       "5    2020   1329     306                   Belgium\n",
       "6    2020   1236     417                   Belgium\n",
       "7    2020   2454     283                   Belgium\n",
       "8    2020    530     254                   Belgium\n",
       "9    2020    942     303                   Belgium\n",
       "10   2020   1629     254                   Belgium\n",
       "11   2020   1351     327                   Belgium\n",
       "12   2020   1684     496                   Belgium\n",
       "13   2020   1580     283                   Belgium\n",
       "14   2020   1209     205                   Belgium\n",
       "15   2020   1380     403                   Belgium\n",
       "16   2020   1123     185                   Belgium\n",
       "17   2020   1260     164                   Belgium\n",
       "18   2020   1661     140                   Belgium\n",
       "19   2020   1422     132                   Belgium\n",
       "20   2020   1384     183                   Belgium\n",
       "21   2020   1189     123                   Belgium\n",
       "22   2020    876     192                   Belgium\n",
       "23   2020   1063      82                   Belgium\n",
       "24   2020   1702      78                   Belgium\n",
       "25   2020   1850      64                   Belgium\n",
       "26   2020   1049      69                   Belgium\n",
       "27   2020   1298      42                   Belgium\n",
       "28   2020    668      56                   Belgium\n",
       "29   2020    526      34                   Belgium\n",
       "..    ...    ...     ...                       ...\n",
       "660  2020      0       0  United_States_of_America\n",
       "661  2020      0       0  United_States_of_America\n",
       "662  2020      3       0  United_States_of_America\n",
       "663  2020      0       0  United_States_of_America\n",
       "664  2020      1       0  United_States_of_America\n",
       "665  2020      0       0  United_States_of_America\n",
       "666  2020      0       0  United_States_of_America\n",
       "667  2020      0       0  United_States_of_America\n",
       "668  2020      1       0  United_States_of_America\n",
       "669  2020      0       0  United_States_of_America\n",
       "670  2020      0       0  United_States_of_America\n",
       "671  2020      0       0  United_States_of_America\n",
       "672  2020      0       0  United_States_of_America\n",
       "673  2020      0       0  United_States_of_America\n",
       "674  2020      0       0  United_States_of_America\n",
       "675  2020      0       0  United_States_of_America\n",
       "676  2020      0       0  United_States_of_America\n",
       "677  2020      0       0  United_States_of_America\n",
       "678  2020      0       0  United_States_of_America\n",
       "679  2020      0       0  United_States_of_America\n",
       "680  2020      0       0  United_States_of_America\n",
       "681  2020      0       0  United_States_of_America\n",
       "682  2020      0       0  United_States_of_America\n",
       "683  2020      0       0  United_States_of_America\n",
       "684  2020      0       0  United_States_of_America\n",
       "685  2020      0       0  United_States_of_America\n",
       "686  2020      0       0  United_States_of_America\n",
       "687  2020      0       0  United_States_of_America\n",
       "688  2020      0       0  United_States_of_America\n",
       "689  2019      0       0  United_States_of_America\n",
       "\n",
       "[690 rows x 4 columns]"
      ],
      "text/html": "<div>\n<style scoped>\n    .dataframe tbody tr th:only-of-type {\n        vertical-align: middle;\n    }\n\n    .dataframe tbody tr th {\n        vertical-align: top;\n    }\n\n    .dataframe thead th {\n        text-align: right;\n    }\n</style>\n<table border=\"1\" class=\"dataframe\">\n  <thead>\n    <tr style=\"text-align: right;\">\n      <th></th>\n      <th>year</th>\n      <th>cases</th>\n      <th>deaths</th>\n      <th>countriesAndTerritories</th>\n    </tr>\n  </thead>\n  <tbody>\n    <tr>\n      <th>0</th>\n      <td>2020</td>\n      <td>933</td>\n      <td>264</td>\n      <td>Belgium</td>\n    </tr>\n    <tr>\n      <th>1</th>\n      <td>2020</td>\n      <td>973</td>\n      <td>170</td>\n      <td>Belgium</td>\n    </tr>\n    <tr>\n      <th>2</th>\n      <td>2020</td>\n      <td>1487</td>\n      <td>145</td>\n      <td>Belgium</td>\n    </tr>\n    <tr>\n      <th>3</th>\n      <td>2020</td>\n      <td>1313</td>\n      <td>230</td>\n      <td>Belgium</td>\n    </tr>\n    <tr>\n      <th>4</th>\n      <td>2020</td>\n      <td>1045</td>\n      <td>290</td>\n      <td>Belgium</td>\n    </tr>\n    <tr>\n      <th>5</th>\n      <td>2020</td>\n      <td>1329</td>\n      <td>306</td>\n      <td>Belgium</td>\n    </tr>\n    <tr>\n      <th>6</th>\n      <td>2020</td>\n      <td>1236</td>\n      <td>417</td>\n      <td>Belgium</td>\n    </tr>\n    <tr>\n      <th>7</th>\n      <td>2020</td>\n      <td>2454</td>\n      <td>283</td>\n      <td>Belgium</td>\n    </tr>\n    <tr>\n      <th>8</th>\n      <td>2020</td>\n      <td>530</td>\n      <td>254</td>\n      <td>Belgium</td>\n    </tr>\n    <tr>\n      <th>9</th>\n      <td>2020</td>\n      <td>942</td>\n      <td>303</td>\n      <td>Belgium</td>\n    </tr>\n    <tr>\n      <th>10</th>\n      <td>2020</td>\n      <td>1629</td>\n      <td>254</td>\n      <td>Belgium</td>\n    </tr>\n    <tr>\n      <th>11</th>\n      <td>2020</td>\n      <td>1351</td>\n      <td>327</td>\n      <td>Belgium</td>\n    </tr>\n    <tr>\n      <th>12</th>\n      <td>2020</td>\n      <td>1684</td>\n      <td>496</td>\n      <td>Belgium</td>\n    </tr>\n    <tr>\n      <th>13</th>\n      <td>2020</td>\n      <td>1580</td>\n      <td>283</td>\n      <td>Belgium</td>\n    </tr>\n    <tr>\n      <th>14</th>\n      <td>2020</td>\n      <td>1209</td>\n      <td>205</td>\n      <td>Belgium</td>\n    </tr>\n    <tr>\n      <th>15</th>\n      <td>2020</td>\n      <td>1380</td>\n      <td>403</td>\n      <td>Belgium</td>\n    </tr>\n    <tr>\n      <th>16</th>\n      <td>2020</td>\n      <td>1123</td>\n      <td>185</td>\n      <td>Belgium</td>\n    </tr>\n    <tr>\n      <th>17</th>\n      <td>2020</td>\n      <td>1260</td>\n      <td>164</td>\n      <td>Belgium</td>\n    </tr>\n    <tr>\n      <th>18</th>\n      <td>2020</td>\n      <td>1661</td>\n      <td>140</td>\n      <td>Belgium</td>\n    </tr>\n    <tr>\n      <th>19</th>\n      <td>2020</td>\n      <td>1422</td>\n      <td>132</td>\n      <td>Belgium</td>\n    </tr>\n    <tr>\n      <th>20</th>\n      <td>2020</td>\n      <td>1384</td>\n      <td>183</td>\n      <td>Belgium</td>\n    </tr>\n    <tr>\n      <th>21</th>\n      <td>2020</td>\n      <td>1189</td>\n      <td>123</td>\n      <td>Belgium</td>\n    </tr>\n    <tr>\n      <th>22</th>\n      <td>2020</td>\n      <td>876</td>\n      <td>192</td>\n      <td>Belgium</td>\n    </tr>\n    <tr>\n      <th>23</th>\n      <td>2020</td>\n      <td>1063</td>\n      <td>82</td>\n      <td>Belgium</td>\n    </tr>\n    <tr>\n      <th>24</th>\n      <td>2020</td>\n      <td>1702</td>\n      <td>78</td>\n      <td>Belgium</td>\n    </tr>\n    <tr>\n      <th>25</th>\n      <td>2020</td>\n      <td>1850</td>\n      <td>64</td>\n      <td>Belgium</td>\n    </tr>\n    <tr>\n      <th>26</th>\n      <td>2020</td>\n      <td>1049</td>\n      <td>69</td>\n      <td>Belgium</td>\n    </tr>\n    <tr>\n      <th>27</th>\n      <td>2020</td>\n      <td>1298</td>\n      <td>42</td>\n      <td>Belgium</td>\n    </tr>\n    <tr>\n      <th>28</th>\n      <td>2020</td>\n      <td>668</td>\n      <td>56</td>\n      <td>Belgium</td>\n    </tr>\n    <tr>\n      <th>29</th>\n      <td>2020</td>\n      <td>526</td>\n      <td>34</td>\n      <td>Belgium</td>\n    </tr>\n    <tr>\n      <th>...</th>\n      <td>...</td>\n      <td>...</td>\n      <td>...</td>\n      <td>...</td>\n    </tr>\n    <tr>\n      <th>660</th>\n      <td>2020</td>\n      <td>0</td>\n      <td>0</td>\n      <td>United_States_of_America</td>\n    </tr>\n    <tr>\n      <th>661</th>\n      <td>2020</td>\n      <td>0</td>\n      <td>0</td>\n      <td>United_States_of_America</td>\n    </tr>\n    <tr>\n      <th>662</th>\n      <td>2020</td>\n      <td>3</td>\n      <td>0</td>\n      <td>United_States_of_America</td>\n    </tr>\n    <tr>\n      <th>663</th>\n      <td>2020</td>\n      <td>0</td>\n      <td>0</td>\n      <td>United_States_of_America</td>\n    </tr>\n    <tr>\n      <th>664</th>\n      <td>2020</td>\n      <td>1</td>\n      <td>0</td>\n      <td>United_States_of_America</td>\n    </tr>\n    <tr>\n      <th>665</th>\n      <td>2020</td>\n      <td>0</td>\n      <td>0</td>\n      <td>United_States_of_America</td>\n    </tr>\n    <tr>\n      <th>666</th>\n      <td>2020</td>\n      <td>0</td>\n      <td>0</td>\n      <td>United_States_of_America</td>\n    </tr>\n    <tr>\n      <th>667</th>\n      <td>2020</td>\n      <td>0</td>\n      <td>0</td>\n      <td>United_States_of_America</td>\n    </tr>\n    <tr>\n      <th>668</th>\n      <td>2020</td>\n      <td>1</td>\n      <td>0</td>\n      <td>United_States_of_America</td>\n    </tr>\n    <tr>\n      <th>669</th>\n      <td>2020</td>\n      <td>0</td>\n      <td>0</td>\n      <td>United_States_of_America</td>\n    </tr>\n    <tr>\n      <th>670</th>\n      <td>2020</td>\n      <td>0</td>\n      <td>0</td>\n      <td>United_States_of_America</td>\n    </tr>\n    <tr>\n      <th>671</th>\n      <td>2020</td>\n      <td>0</td>\n      <td>0</td>\n      <td>United_States_of_America</td>\n    </tr>\n    <tr>\n      <th>672</th>\n      <td>2020</td>\n      <td>0</td>\n      <td>0</td>\n      <td>United_States_of_America</td>\n    </tr>\n    <tr>\n      <th>673</th>\n      <td>2020</td>\n      <td>0</td>\n      <td>0</td>\n      <td>United_States_of_America</td>\n    </tr>\n    <tr>\n      <th>674</th>\n      <td>2020</td>\n      <td>0</td>\n      <td>0</td>\n      <td>United_States_of_America</td>\n    </tr>\n    <tr>\n      <th>675</th>\n      <td>2020</td>\n      <td>0</td>\n      <td>0</td>\n      <td>United_States_of_America</td>\n    </tr>\n    <tr>\n      <th>676</th>\n      <td>2020</td>\n      <td>0</td>\n      <td>0</td>\n      <td>United_States_of_America</td>\n    </tr>\n    <tr>\n      <th>677</th>\n      <td>2020</td>\n      <td>0</td>\n      <td>0</td>\n      <td>United_States_of_America</td>\n    </tr>\n    <tr>\n      <th>678</th>\n      <td>2020</td>\n      <td>0</td>\n      <td>0</td>\n      <td>United_States_of_America</td>\n    </tr>\n    <tr>\n      <th>679</th>\n      <td>2020</td>\n      <td>0</td>\n      <td>0</td>\n      <td>United_States_of_America</td>\n    </tr>\n    <tr>\n      <th>680</th>\n      <td>2020</td>\n      <td>0</td>\n      <td>0</td>\n      <td>United_States_of_America</td>\n    </tr>\n    <tr>\n      <th>681</th>\n      <td>2020</td>\n      <td>0</td>\n      <td>0</td>\n      <td>United_States_of_America</td>\n    </tr>\n    <tr>\n      <th>682</th>\n      <td>2020</td>\n      <td>0</td>\n      <td>0</td>\n      <td>United_States_of_America</td>\n    </tr>\n    <tr>\n      <th>683</th>\n      <td>2020</td>\n      <td>0</td>\n      <td>0</td>\n      <td>United_States_of_America</td>\n    </tr>\n    <tr>\n      <th>684</th>\n      <td>2020</td>\n      <td>0</td>\n      <td>0</td>\n      <td>United_States_of_America</td>\n    </tr>\n    <tr>\n      <th>685</th>\n      <td>2020</td>\n      <td>0</td>\n      <td>0</td>\n      <td>United_States_of_America</td>\n    </tr>\n    <tr>\n      <th>686</th>\n      <td>2020</td>\n      <td>0</td>\n      <td>0</td>\n      <td>United_States_of_America</td>\n    </tr>\n    <tr>\n      <th>687</th>\n      <td>2020</td>\n      <td>0</td>\n      <td>0</td>\n      <td>United_States_of_America</td>\n    </tr>\n    <tr>\n      <th>688</th>\n      <td>2020</td>\n      <td>0</td>\n      <td>0</td>\n      <td>United_States_of_America</td>\n    </tr>\n    <tr>\n      <th>689</th>\n      <td>2019</td>\n      <td>0</td>\n      <td>0</td>\n      <td>United_States_of_America</td>\n    </tr>\n  </tbody>\n</table>\n<p>690 rows × 4 columns</p>\n</div>"
     },
     "metadata": {},
     "execution_count": 6
    }
   ],
   "source": [
    "data.loc[:, [\"year\", \"cases\", \"deaths\", \"countriesAndTerritories\"]]"
   ]
  },
  {
   "cell_type": "code",
   "execution_count": 7,
   "metadata": {},
   "outputs": [
    {
     "output_type": "execute_result",
     "data": {
      "text/plain": [
       "     year  cases  deaths   countriesAndTerritories\n",
       "0    2020    933     264                   Belgium\n",
       "1    2020    973     170                   Belgium\n",
       "2    2020   1487     145                   Belgium\n",
       "3    2020   1313     230                   Belgium\n",
       "4    2020   1045     290                   Belgium\n",
       "5    2020   1329     306                   Belgium\n",
       "6    2020   1236     417                   Belgium\n",
       "7    2020   2454     283                   Belgium\n",
       "8    2020    530     254                   Belgium\n",
       "9    2020    942     303                   Belgium\n",
       "10   2020   1629     254                   Belgium\n",
       "11   2020   1351     327                   Belgium\n",
       "12   2020   1684     496                   Belgium\n",
       "13   2020   1580     283                   Belgium\n",
       "14   2020   1209     205                   Belgium\n",
       "15   2020   1380     403                   Belgium\n",
       "16   2020   1123     185                   Belgium\n",
       "17   2020   1260     164                   Belgium\n",
       "18   2020   1661     140                   Belgium\n",
       "19   2020   1422     132                   Belgium\n",
       "20   2020   1384     183                   Belgium\n",
       "21   2020   1189     123                   Belgium\n",
       "22   2020    876     192                   Belgium\n",
       "23   2020   1063      82                   Belgium\n",
       "24   2020   1702      78                   Belgium\n",
       "25   2020   1850      64                   Belgium\n",
       "26   2020   1049      69                   Belgium\n",
       "27   2020   1298      42                   Belgium\n",
       "28   2020    668      56                   Belgium\n",
       "29   2020    526      34                   Belgium\n",
       "..    ...    ...     ...                       ...\n",
       "660  2020      0       0  United_States_of_America\n",
       "661  2020      0       0  United_States_of_America\n",
       "662  2020      3       0  United_States_of_America\n",
       "663  2020      0       0  United_States_of_America\n",
       "664  2020      1       0  United_States_of_America\n",
       "665  2020      0       0  United_States_of_America\n",
       "666  2020      0       0  United_States_of_America\n",
       "667  2020      0       0  United_States_of_America\n",
       "668  2020      1       0  United_States_of_America\n",
       "669  2020      0       0  United_States_of_America\n",
       "670  2020      0       0  United_States_of_America\n",
       "671  2020      0       0  United_States_of_America\n",
       "672  2020      0       0  United_States_of_America\n",
       "673  2020      0       0  United_States_of_America\n",
       "674  2020      0       0  United_States_of_America\n",
       "675  2020      0       0  United_States_of_America\n",
       "676  2020      0       0  United_States_of_America\n",
       "677  2020      0       0  United_States_of_America\n",
       "678  2020      0       0  United_States_of_America\n",
       "679  2020      0       0  United_States_of_America\n",
       "680  2020      0       0  United_States_of_America\n",
       "681  2020      0       0  United_States_of_America\n",
       "682  2020      0       0  United_States_of_America\n",
       "683  2020      0       0  United_States_of_America\n",
       "684  2020      0       0  United_States_of_America\n",
       "685  2020      0       0  United_States_of_America\n",
       "686  2020      0       0  United_States_of_America\n",
       "687  2020      0       0  United_States_of_America\n",
       "688  2020      0       0  United_States_of_America\n",
       "689  2019      0       0  United_States_of_America\n",
       "\n",
       "[690 rows x 4 columns]"
      ],
      "text/html": "<div>\n<style scoped>\n    .dataframe tbody tr th:only-of-type {\n        vertical-align: middle;\n    }\n\n    .dataframe tbody tr th {\n        vertical-align: top;\n    }\n\n    .dataframe thead th {\n        text-align: right;\n    }\n</style>\n<table border=\"1\" class=\"dataframe\">\n  <thead>\n    <tr style=\"text-align: right;\">\n      <th></th>\n      <th>year</th>\n      <th>cases</th>\n      <th>deaths</th>\n      <th>countriesAndTerritories</th>\n    </tr>\n  </thead>\n  <tbody>\n    <tr>\n      <th>0</th>\n      <td>2020</td>\n      <td>933</td>\n      <td>264</td>\n      <td>Belgium</td>\n    </tr>\n    <tr>\n      <th>1</th>\n      <td>2020</td>\n      <td>973</td>\n      <td>170</td>\n      <td>Belgium</td>\n    </tr>\n    <tr>\n      <th>2</th>\n      <td>2020</td>\n      <td>1487</td>\n      <td>145</td>\n      <td>Belgium</td>\n    </tr>\n    <tr>\n      <th>3</th>\n      <td>2020</td>\n      <td>1313</td>\n      <td>230</td>\n      <td>Belgium</td>\n    </tr>\n    <tr>\n      <th>4</th>\n      <td>2020</td>\n      <td>1045</td>\n      <td>290</td>\n      <td>Belgium</td>\n    </tr>\n    <tr>\n      <th>5</th>\n      <td>2020</td>\n      <td>1329</td>\n      <td>306</td>\n      <td>Belgium</td>\n    </tr>\n    <tr>\n      <th>6</th>\n      <td>2020</td>\n      <td>1236</td>\n      <td>417</td>\n      <td>Belgium</td>\n    </tr>\n    <tr>\n      <th>7</th>\n      <td>2020</td>\n      <td>2454</td>\n      <td>283</td>\n      <td>Belgium</td>\n    </tr>\n    <tr>\n      <th>8</th>\n      <td>2020</td>\n      <td>530</td>\n      <td>254</td>\n      <td>Belgium</td>\n    </tr>\n    <tr>\n      <th>9</th>\n      <td>2020</td>\n      <td>942</td>\n      <td>303</td>\n      <td>Belgium</td>\n    </tr>\n    <tr>\n      <th>10</th>\n      <td>2020</td>\n      <td>1629</td>\n      <td>254</td>\n      <td>Belgium</td>\n    </tr>\n    <tr>\n      <th>11</th>\n      <td>2020</td>\n      <td>1351</td>\n      <td>327</td>\n      <td>Belgium</td>\n    </tr>\n    <tr>\n      <th>12</th>\n      <td>2020</td>\n      <td>1684</td>\n      <td>496</td>\n      <td>Belgium</td>\n    </tr>\n    <tr>\n      <th>13</th>\n      <td>2020</td>\n      <td>1580</td>\n      <td>283</td>\n      <td>Belgium</td>\n    </tr>\n    <tr>\n      <th>14</th>\n      <td>2020</td>\n      <td>1209</td>\n      <td>205</td>\n      <td>Belgium</td>\n    </tr>\n    <tr>\n      <th>15</th>\n      <td>2020</td>\n      <td>1380</td>\n      <td>403</td>\n      <td>Belgium</td>\n    </tr>\n    <tr>\n      <th>16</th>\n      <td>2020</td>\n      <td>1123</td>\n      <td>185</td>\n      <td>Belgium</td>\n    </tr>\n    <tr>\n      <th>17</th>\n      <td>2020</td>\n      <td>1260</td>\n      <td>164</td>\n      <td>Belgium</td>\n    </tr>\n    <tr>\n      <th>18</th>\n      <td>2020</td>\n      <td>1661</td>\n      <td>140</td>\n      <td>Belgium</td>\n    </tr>\n    <tr>\n      <th>19</th>\n      <td>2020</td>\n      <td>1422</td>\n      <td>132</td>\n      <td>Belgium</td>\n    </tr>\n    <tr>\n      <th>20</th>\n      <td>2020</td>\n      <td>1384</td>\n      <td>183</td>\n      <td>Belgium</td>\n    </tr>\n    <tr>\n      <th>21</th>\n      <td>2020</td>\n      <td>1189</td>\n      <td>123</td>\n      <td>Belgium</td>\n    </tr>\n    <tr>\n      <th>22</th>\n      <td>2020</td>\n      <td>876</td>\n      <td>192</td>\n      <td>Belgium</td>\n    </tr>\n    <tr>\n      <th>23</th>\n      <td>2020</td>\n      <td>1063</td>\n      <td>82</td>\n      <td>Belgium</td>\n    </tr>\n    <tr>\n      <th>24</th>\n      <td>2020</td>\n      <td>1702</td>\n      <td>78</td>\n      <td>Belgium</td>\n    </tr>\n    <tr>\n      <th>25</th>\n      <td>2020</td>\n      <td>1850</td>\n      <td>64</td>\n      <td>Belgium</td>\n    </tr>\n    <tr>\n      <th>26</th>\n      <td>2020</td>\n      <td>1049</td>\n      <td>69</td>\n      <td>Belgium</td>\n    </tr>\n    <tr>\n      <th>27</th>\n      <td>2020</td>\n      <td>1298</td>\n      <td>42</td>\n      <td>Belgium</td>\n    </tr>\n    <tr>\n      <th>28</th>\n      <td>2020</td>\n      <td>668</td>\n      <td>56</td>\n      <td>Belgium</td>\n    </tr>\n    <tr>\n      <th>29</th>\n      <td>2020</td>\n      <td>526</td>\n      <td>34</td>\n      <td>Belgium</td>\n    </tr>\n    <tr>\n      <th>...</th>\n      <td>...</td>\n      <td>...</td>\n      <td>...</td>\n      <td>...</td>\n    </tr>\n    <tr>\n      <th>660</th>\n      <td>2020</td>\n      <td>0</td>\n      <td>0</td>\n      <td>United_States_of_America</td>\n    </tr>\n    <tr>\n      <th>661</th>\n      <td>2020</td>\n      <td>0</td>\n      <td>0</td>\n      <td>United_States_of_America</td>\n    </tr>\n    <tr>\n      <th>662</th>\n      <td>2020</td>\n      <td>3</td>\n      <td>0</td>\n      <td>United_States_of_America</td>\n    </tr>\n    <tr>\n      <th>663</th>\n      <td>2020</td>\n      <td>0</td>\n      <td>0</td>\n      <td>United_States_of_America</td>\n    </tr>\n    <tr>\n      <th>664</th>\n      <td>2020</td>\n      <td>1</td>\n      <td>0</td>\n      <td>United_States_of_America</td>\n    </tr>\n    <tr>\n      <th>665</th>\n      <td>2020</td>\n      <td>0</td>\n      <td>0</td>\n      <td>United_States_of_America</td>\n    </tr>\n    <tr>\n      <th>666</th>\n      <td>2020</td>\n      <td>0</td>\n      <td>0</td>\n      <td>United_States_of_America</td>\n    </tr>\n    <tr>\n      <th>667</th>\n      <td>2020</td>\n      <td>0</td>\n      <td>0</td>\n      <td>United_States_of_America</td>\n    </tr>\n    <tr>\n      <th>668</th>\n      <td>2020</td>\n      <td>1</td>\n      <td>0</td>\n      <td>United_States_of_America</td>\n    </tr>\n    <tr>\n      <th>669</th>\n      <td>2020</td>\n      <td>0</td>\n      <td>0</td>\n      <td>United_States_of_America</td>\n    </tr>\n    <tr>\n      <th>670</th>\n      <td>2020</td>\n      <td>0</td>\n      <td>0</td>\n      <td>United_States_of_America</td>\n    </tr>\n    <tr>\n      <th>671</th>\n      <td>2020</td>\n      <td>0</td>\n      <td>0</td>\n      <td>United_States_of_America</td>\n    </tr>\n    <tr>\n      <th>672</th>\n      <td>2020</td>\n      <td>0</td>\n      <td>0</td>\n      <td>United_States_of_America</td>\n    </tr>\n    <tr>\n      <th>673</th>\n      <td>2020</td>\n      <td>0</td>\n      <td>0</td>\n      <td>United_States_of_America</td>\n    </tr>\n    <tr>\n      <th>674</th>\n      <td>2020</td>\n      <td>0</td>\n      <td>0</td>\n      <td>United_States_of_America</td>\n    </tr>\n    <tr>\n      <th>675</th>\n      <td>2020</td>\n      <td>0</td>\n      <td>0</td>\n      <td>United_States_of_America</td>\n    </tr>\n    <tr>\n      <th>676</th>\n      <td>2020</td>\n      <td>0</td>\n      <td>0</td>\n      <td>United_States_of_America</td>\n    </tr>\n    <tr>\n      <th>677</th>\n      <td>2020</td>\n      <td>0</td>\n      <td>0</td>\n      <td>United_States_of_America</td>\n    </tr>\n    <tr>\n      <th>678</th>\n      <td>2020</td>\n      <td>0</td>\n      <td>0</td>\n      <td>United_States_of_America</td>\n    </tr>\n    <tr>\n      <th>679</th>\n      <td>2020</td>\n      <td>0</td>\n      <td>0</td>\n      <td>United_States_of_America</td>\n    </tr>\n    <tr>\n      <th>680</th>\n      <td>2020</td>\n      <td>0</td>\n      <td>0</td>\n      <td>United_States_of_America</td>\n    </tr>\n    <tr>\n      <th>681</th>\n      <td>2020</td>\n      <td>0</td>\n      <td>0</td>\n      <td>United_States_of_America</td>\n    </tr>\n    <tr>\n      <th>682</th>\n      <td>2020</td>\n      <td>0</td>\n      <td>0</td>\n      <td>United_States_of_America</td>\n    </tr>\n    <tr>\n      <th>683</th>\n      <td>2020</td>\n      <td>0</td>\n      <td>0</td>\n      <td>United_States_of_America</td>\n    </tr>\n    <tr>\n      <th>684</th>\n      <td>2020</td>\n      <td>0</td>\n      <td>0</td>\n      <td>United_States_of_America</td>\n    </tr>\n    <tr>\n      <th>685</th>\n      <td>2020</td>\n      <td>0</td>\n      <td>0</td>\n      <td>United_States_of_America</td>\n    </tr>\n    <tr>\n      <th>686</th>\n      <td>2020</td>\n      <td>0</td>\n      <td>0</td>\n      <td>United_States_of_America</td>\n    </tr>\n    <tr>\n      <th>687</th>\n      <td>2020</td>\n      <td>0</td>\n      <td>0</td>\n      <td>United_States_of_America</td>\n    </tr>\n    <tr>\n      <th>688</th>\n      <td>2020</td>\n      <td>0</td>\n      <td>0</td>\n      <td>United_States_of_America</td>\n    </tr>\n    <tr>\n      <th>689</th>\n      <td>2019</td>\n      <td>0</td>\n      <td>0</td>\n      <td>United_States_of_America</td>\n    </tr>\n  </tbody>\n</table>\n<p>690 rows × 4 columns</p>\n</div>"
     },
     "metadata": {},
     "execution_count": 7
    }
   ],
   "source": [
    "columns = [\"year\", \"cases\", \"deaths\", \"countriesAndTerritories\"]\n",
    "data.loc[:, columns]"
   ]
  },
  {
   "cell_type": "code",
   "execution_count": null,
   "metadata": {},
   "outputs": [],
   "source": []
  }
 ]
}
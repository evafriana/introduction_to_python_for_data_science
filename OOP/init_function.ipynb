{
 "metadata": {
  "language_info": {
   "codemirror_mode": {
    "name": "ipython",
    "version": 3
   },
   "file_extension": ".py",
   "mimetype": "text/x-python",
   "name": "python",
   "nbconvert_exporter": "python",
   "pygments_lexer": "ipython3",
   "version": "3.8.5-final"
  },
  "orig_nbformat": 2,
  "kernelspec": {
   "name": "python3",
   "display_name": "Python 3"
  }
 },
 "nbformat": 4,
 "nbformat_minor": 2,
 "cells": [
  {
   "cell_type": "code",
   "execution_count": 1,
   "metadata": {},
   "outputs": [],
   "source": [
    "class Basic_math():\n",
    "    def __init__(self, a, b):\n",
    "        self.a = a \n",
    "        self.b = b \n",
    "\n",
    "    def addition(self):\n",
    "        return self.a + self.b"
   ]
  },
  {
   "cell_type": "code",
   "execution_count": 2,
   "metadata": {},
   "outputs": [
    {
     "output_type": "execute_result",
     "data": {
      "text/plain": [
       "30"
      ]
     },
     "metadata": {},
     "execution_count": 2
    }
   ],
   "source": [
    "math = Basic_math(10, 20)\n",
    "math.addition()"
   ]
  },
  {
   "cell_type": "code",
   "execution_count": 3,
   "metadata": {},
   "outputs": [
    {
     "output_type": "stream",
     "name": "stdout",
     "text": [
      "50\n1013\n0\n"
     ]
    }
   ],
   "source": [
    "math2 = Basic_math(20, 30)\n",
    "math3 = Basic_math(-20, 1033)\n",
    "math4 = Basic_math(10, -10)\n",
    "\n",
    "print(math2.addition())\n",
    "print(math3.addition())\n",
    "print(math4.addition())"
   ]
  },
  {
   "cell_type": "code",
   "execution_count": 7,
   "metadata": {},
   "outputs": [],
   "source": [
    "class Pandas():\n",
    "    def __init__(self, df=[]):\n",
    "        self.df = df\n",
    "       \n",
    "\n",
    "    def sum(self):\n",
    "        return sum(self.df)"
   ]
  },
  {
   "cell_type": "code",
   "execution_count": 8,
   "metadata": {},
   "outputs": [
    {
     "output_type": "execute_result",
     "data": {
      "text/plain": [
       "60"
      ]
     },
     "metadata": {},
     "execution_count": 8
    }
   ],
   "source": [
    "pd = Pandas([10, 20, 30])\n",
    "pd.sum()"
   ]
  },
  {
   "cell_type": "code",
   "execution_count": 9,
   "metadata": {},
   "outputs": [],
   "source": [
    "class Pandas():\n",
    "    def __init__(self, df=[]):\n",
    "        self.df = df\n",
    "       \n",
    "\n",
    "    def addition(self):\n",
    "        return sum(self.df)"
   ]
  },
  {
   "cell_type": "code",
   "execution_count": 10,
   "metadata": {},
   "outputs": [
    {
     "output_type": "execute_result",
     "data": {
      "text/plain": [
       "60"
      ]
     },
     "metadata": {},
     "execution_count": 10
    }
   ],
   "source": [
    "pd = Pandas([10, 20, 30])\n",
    "pd.addition()"
   ]
  },
  {
   "cell_type": "code",
   "execution_count": 11,
   "metadata": {},
   "outputs": [],
   "source": [
    "class Pandas():\n",
    "    def __init__(self, df=[]):\n",
    "        self.df = df\n",
    "       \n",
    "\n",
    "    def sum(self):\n",
    "        sum = 0\n",
    "        for item in self.df:\n",
    "            sum += item\n",
    "        return sum\n"
   ]
  },
  {
   "cell_type": "code",
   "execution_count": 12,
   "metadata": {},
   "outputs": [
    {
     "output_type": "execute_result",
     "data": {
      "text/plain": [
       "60"
      ]
     },
     "metadata": {},
     "execution_count": 12
    }
   ],
   "source": [
    "pd = Pandas([10, 20, 30])\n",
    "pd.sum()"
   ]
  },
  {
   "cell_type": "code",
   "execution_count": null,
   "metadata": {},
   "outputs": [],
   "source": []
  }
 ]
}